{
 "cells": [
  {
   "cell_type": "code",
   "execution_count": 1,
   "id": "64c4ae2a",
   "metadata": {},
   "outputs": [],
   "source": [
    "import numpy as np\n",
    "import pandas as pd\n",
    "import matplotlib.pyplot as plt\n",
    "import seaborn as sns"
   ]
  },
  {
   "cell_type": "markdown",
   "id": "b057cf95",
   "metadata": {},
   "source": [
    "## Data Exploration & Cleaning"
   ]
  },
  {
   "cell_type": "code",
   "execution_count": 2,
   "id": "854a0c22",
   "metadata": {
    "scrolled": true
   },
   "outputs": [
    {
     "data": {
      "text/html": [
       "<div>\n",
       "<style scoped>\n",
       "    .dataframe tbody tr th:only-of-type {\n",
       "        vertical-align: middle;\n",
       "    }\n",
       "\n",
       "    .dataframe tbody tr th {\n",
       "        vertical-align: top;\n",
       "    }\n",
       "\n",
       "    .dataframe thead th {\n",
       "        text-align: right;\n",
       "    }\n",
       "</style>\n",
       "<table border=\"1\" class=\"dataframe\">\n",
       "  <thead>\n",
       "    <tr style=\"text-align: right;\">\n",
       "      <th></th>\n",
       "      <th>Timestamp</th>\n",
       "      <th>Age</th>\n",
       "      <th>Gender</th>\n",
       "      <th>Country</th>\n",
       "      <th>state</th>\n",
       "      <th>self_employed</th>\n",
       "      <th>family_history</th>\n",
       "      <th>treatment</th>\n",
       "      <th>work_interfere</th>\n",
       "      <th>no_employees</th>\n",
       "      <th>...</th>\n",
       "      <th>leave</th>\n",
       "      <th>mental_health_consequence</th>\n",
       "      <th>phys_health_consequence</th>\n",
       "      <th>coworkers</th>\n",
       "      <th>supervisor</th>\n",
       "      <th>mental_health_interview</th>\n",
       "      <th>phys_health_interview</th>\n",
       "      <th>mental_vs_physical</th>\n",
       "      <th>obs_consequence</th>\n",
       "      <th>comments</th>\n",
       "    </tr>\n",
       "  </thead>\n",
       "  <tbody>\n",
       "    <tr>\n",
       "      <th>0</th>\n",
       "      <td>2014-08-27 11:29:31</td>\n",
       "      <td>37</td>\n",
       "      <td>Female</td>\n",
       "      <td>United States</td>\n",
       "      <td>IL</td>\n",
       "      <td>NaN</td>\n",
       "      <td>No</td>\n",
       "      <td>Yes</td>\n",
       "      <td>Often</td>\n",
       "      <td>6-25</td>\n",
       "      <td>...</td>\n",
       "      <td>Somewhat easy</td>\n",
       "      <td>No</td>\n",
       "      <td>No</td>\n",
       "      <td>Some of them</td>\n",
       "      <td>Yes</td>\n",
       "      <td>No</td>\n",
       "      <td>Maybe</td>\n",
       "      <td>Yes</td>\n",
       "      <td>No</td>\n",
       "      <td>NaN</td>\n",
       "    </tr>\n",
       "    <tr>\n",
       "      <th>1</th>\n",
       "      <td>2014-08-27 11:29:37</td>\n",
       "      <td>44</td>\n",
       "      <td>M</td>\n",
       "      <td>United States</td>\n",
       "      <td>IN</td>\n",
       "      <td>NaN</td>\n",
       "      <td>No</td>\n",
       "      <td>No</td>\n",
       "      <td>Rarely</td>\n",
       "      <td>More than 1000</td>\n",
       "      <td>...</td>\n",
       "      <td>Don't know</td>\n",
       "      <td>Maybe</td>\n",
       "      <td>No</td>\n",
       "      <td>No</td>\n",
       "      <td>No</td>\n",
       "      <td>No</td>\n",
       "      <td>No</td>\n",
       "      <td>Don't know</td>\n",
       "      <td>No</td>\n",
       "      <td>NaN</td>\n",
       "    </tr>\n",
       "    <tr>\n",
       "      <th>2</th>\n",
       "      <td>2014-08-27 11:29:44</td>\n",
       "      <td>32</td>\n",
       "      <td>Male</td>\n",
       "      <td>Canada</td>\n",
       "      <td>NaN</td>\n",
       "      <td>NaN</td>\n",
       "      <td>No</td>\n",
       "      <td>No</td>\n",
       "      <td>Rarely</td>\n",
       "      <td>6-25</td>\n",
       "      <td>...</td>\n",
       "      <td>Somewhat difficult</td>\n",
       "      <td>No</td>\n",
       "      <td>No</td>\n",
       "      <td>Yes</td>\n",
       "      <td>Yes</td>\n",
       "      <td>Yes</td>\n",
       "      <td>Yes</td>\n",
       "      <td>No</td>\n",
       "      <td>No</td>\n",
       "      <td>NaN</td>\n",
       "    </tr>\n",
       "    <tr>\n",
       "      <th>3</th>\n",
       "      <td>2014-08-27 11:29:46</td>\n",
       "      <td>31</td>\n",
       "      <td>Male</td>\n",
       "      <td>United Kingdom</td>\n",
       "      <td>NaN</td>\n",
       "      <td>NaN</td>\n",
       "      <td>Yes</td>\n",
       "      <td>Yes</td>\n",
       "      <td>Often</td>\n",
       "      <td>26-100</td>\n",
       "      <td>...</td>\n",
       "      <td>Somewhat difficult</td>\n",
       "      <td>Yes</td>\n",
       "      <td>Yes</td>\n",
       "      <td>Some of them</td>\n",
       "      <td>No</td>\n",
       "      <td>Maybe</td>\n",
       "      <td>Maybe</td>\n",
       "      <td>No</td>\n",
       "      <td>Yes</td>\n",
       "      <td>NaN</td>\n",
       "    </tr>\n",
       "    <tr>\n",
       "      <th>4</th>\n",
       "      <td>2014-08-27 11:30:22</td>\n",
       "      <td>31</td>\n",
       "      <td>Male</td>\n",
       "      <td>United States</td>\n",
       "      <td>TX</td>\n",
       "      <td>NaN</td>\n",
       "      <td>No</td>\n",
       "      <td>No</td>\n",
       "      <td>Never</td>\n",
       "      <td>100-500</td>\n",
       "      <td>...</td>\n",
       "      <td>Don't know</td>\n",
       "      <td>No</td>\n",
       "      <td>No</td>\n",
       "      <td>Some of them</td>\n",
       "      <td>Yes</td>\n",
       "      <td>Yes</td>\n",
       "      <td>Yes</td>\n",
       "      <td>Don't know</td>\n",
       "      <td>No</td>\n",
       "      <td>NaN</td>\n",
       "    </tr>\n",
       "    <tr>\n",
       "      <th>...</th>\n",
       "      <td>...</td>\n",
       "      <td>...</td>\n",
       "      <td>...</td>\n",
       "      <td>...</td>\n",
       "      <td>...</td>\n",
       "      <td>...</td>\n",
       "      <td>...</td>\n",
       "      <td>...</td>\n",
       "      <td>...</td>\n",
       "      <td>...</td>\n",
       "      <td>...</td>\n",
       "      <td>...</td>\n",
       "      <td>...</td>\n",
       "      <td>...</td>\n",
       "      <td>...</td>\n",
       "      <td>...</td>\n",
       "      <td>...</td>\n",
       "      <td>...</td>\n",
       "      <td>...</td>\n",
       "      <td>...</td>\n",
       "      <td>...</td>\n",
       "    </tr>\n",
       "    <tr>\n",
       "      <th>1254</th>\n",
       "      <td>2015-09-12 11:17:21</td>\n",
       "      <td>26</td>\n",
       "      <td>male</td>\n",
       "      <td>United Kingdom</td>\n",
       "      <td>NaN</td>\n",
       "      <td>No</td>\n",
       "      <td>No</td>\n",
       "      <td>Yes</td>\n",
       "      <td>NaN</td>\n",
       "      <td>26-100</td>\n",
       "      <td>...</td>\n",
       "      <td>Somewhat easy</td>\n",
       "      <td>No</td>\n",
       "      <td>No</td>\n",
       "      <td>Some of them</td>\n",
       "      <td>Some of them</td>\n",
       "      <td>No</td>\n",
       "      <td>No</td>\n",
       "      <td>Don't know</td>\n",
       "      <td>No</td>\n",
       "      <td>NaN</td>\n",
       "    </tr>\n",
       "    <tr>\n",
       "      <th>1255</th>\n",
       "      <td>2015-09-26 01:07:35</td>\n",
       "      <td>32</td>\n",
       "      <td>Male</td>\n",
       "      <td>United States</td>\n",
       "      <td>IL</td>\n",
       "      <td>No</td>\n",
       "      <td>Yes</td>\n",
       "      <td>Yes</td>\n",
       "      <td>Often</td>\n",
       "      <td>26-100</td>\n",
       "      <td>...</td>\n",
       "      <td>Somewhat difficult</td>\n",
       "      <td>No</td>\n",
       "      <td>No</td>\n",
       "      <td>Some of them</td>\n",
       "      <td>Yes</td>\n",
       "      <td>No</td>\n",
       "      <td>No</td>\n",
       "      <td>Yes</td>\n",
       "      <td>No</td>\n",
       "      <td>NaN</td>\n",
       "    </tr>\n",
       "    <tr>\n",
       "      <th>1256</th>\n",
       "      <td>2015-11-07 12:36:58</td>\n",
       "      <td>34</td>\n",
       "      <td>male</td>\n",
       "      <td>United States</td>\n",
       "      <td>CA</td>\n",
       "      <td>No</td>\n",
       "      <td>Yes</td>\n",
       "      <td>Yes</td>\n",
       "      <td>Sometimes</td>\n",
       "      <td>More than 1000</td>\n",
       "      <td>...</td>\n",
       "      <td>Somewhat difficult</td>\n",
       "      <td>Yes</td>\n",
       "      <td>Yes</td>\n",
       "      <td>No</td>\n",
       "      <td>No</td>\n",
       "      <td>No</td>\n",
       "      <td>No</td>\n",
       "      <td>No</td>\n",
       "      <td>No</td>\n",
       "      <td>NaN</td>\n",
       "    </tr>\n",
       "    <tr>\n",
       "      <th>1257</th>\n",
       "      <td>2015-11-30 21:25:06</td>\n",
       "      <td>46</td>\n",
       "      <td>f</td>\n",
       "      <td>United States</td>\n",
       "      <td>NC</td>\n",
       "      <td>No</td>\n",
       "      <td>No</td>\n",
       "      <td>No</td>\n",
       "      <td>NaN</td>\n",
       "      <td>100-500</td>\n",
       "      <td>...</td>\n",
       "      <td>Don't know</td>\n",
       "      <td>Yes</td>\n",
       "      <td>No</td>\n",
       "      <td>No</td>\n",
       "      <td>No</td>\n",
       "      <td>No</td>\n",
       "      <td>No</td>\n",
       "      <td>No</td>\n",
       "      <td>No</td>\n",
       "      <td>NaN</td>\n",
       "    </tr>\n",
       "    <tr>\n",
       "      <th>1258</th>\n",
       "      <td>2016-02-01 23:04:31</td>\n",
       "      <td>25</td>\n",
       "      <td>Male</td>\n",
       "      <td>United States</td>\n",
       "      <td>IL</td>\n",
       "      <td>No</td>\n",
       "      <td>Yes</td>\n",
       "      <td>Yes</td>\n",
       "      <td>Sometimes</td>\n",
       "      <td>26-100</td>\n",
       "      <td>...</td>\n",
       "      <td>Don't know</td>\n",
       "      <td>Maybe</td>\n",
       "      <td>No</td>\n",
       "      <td>Some of them</td>\n",
       "      <td>No</td>\n",
       "      <td>No</td>\n",
       "      <td>No</td>\n",
       "      <td>Don't know</td>\n",
       "      <td>No</td>\n",
       "      <td>NaN</td>\n",
       "    </tr>\n",
       "  </tbody>\n",
       "</table>\n",
       "<p>1259 rows × 27 columns</p>\n",
       "</div>"
      ],
      "text/plain": [
       "                Timestamp  Age  Gender         Country state self_employed  \\\n",
       "0     2014-08-27 11:29:31   37  Female   United States    IL           NaN   \n",
       "1     2014-08-27 11:29:37   44       M   United States    IN           NaN   \n",
       "2     2014-08-27 11:29:44   32    Male          Canada   NaN           NaN   \n",
       "3     2014-08-27 11:29:46   31    Male  United Kingdom   NaN           NaN   \n",
       "4     2014-08-27 11:30:22   31    Male   United States    TX           NaN   \n",
       "...                   ...  ...     ...             ...   ...           ...   \n",
       "1254  2015-09-12 11:17:21   26    male  United Kingdom   NaN            No   \n",
       "1255  2015-09-26 01:07:35   32    Male   United States    IL            No   \n",
       "1256  2015-11-07 12:36:58   34    male   United States    CA            No   \n",
       "1257  2015-11-30 21:25:06   46       f   United States    NC            No   \n",
       "1258  2016-02-01 23:04:31   25    Male   United States    IL            No   \n",
       "\n",
       "     family_history treatment work_interfere    no_employees  ...  \\\n",
       "0                No       Yes          Often            6-25  ...   \n",
       "1                No        No         Rarely  More than 1000  ...   \n",
       "2                No        No         Rarely            6-25  ...   \n",
       "3               Yes       Yes          Often          26-100  ...   \n",
       "4                No        No          Never         100-500  ...   \n",
       "...             ...       ...            ...             ...  ...   \n",
       "1254             No       Yes            NaN          26-100  ...   \n",
       "1255            Yes       Yes          Often          26-100  ...   \n",
       "1256            Yes       Yes      Sometimes  More than 1000  ...   \n",
       "1257             No        No            NaN         100-500  ...   \n",
       "1258            Yes       Yes      Sometimes          26-100  ...   \n",
       "\n",
       "                   leave mental_health_consequence phys_health_consequence  \\\n",
       "0          Somewhat easy                        No                      No   \n",
       "1             Don't know                     Maybe                      No   \n",
       "2     Somewhat difficult                        No                      No   \n",
       "3     Somewhat difficult                       Yes                     Yes   \n",
       "4             Don't know                        No                      No   \n",
       "...                  ...                       ...                     ...   \n",
       "1254       Somewhat easy                        No                      No   \n",
       "1255  Somewhat difficult                        No                      No   \n",
       "1256  Somewhat difficult                       Yes                     Yes   \n",
       "1257          Don't know                       Yes                      No   \n",
       "1258          Don't know                     Maybe                      No   \n",
       "\n",
       "         coworkers    supervisor mental_health_interview  \\\n",
       "0     Some of them           Yes                      No   \n",
       "1               No            No                      No   \n",
       "2              Yes           Yes                     Yes   \n",
       "3     Some of them            No                   Maybe   \n",
       "4     Some of them           Yes                     Yes   \n",
       "...            ...           ...                     ...   \n",
       "1254  Some of them  Some of them                      No   \n",
       "1255  Some of them           Yes                      No   \n",
       "1256            No            No                      No   \n",
       "1257            No            No                      No   \n",
       "1258  Some of them            No                      No   \n",
       "\n",
       "     phys_health_interview mental_vs_physical obs_consequence comments  \n",
       "0                    Maybe                Yes              No      NaN  \n",
       "1                       No         Don't know              No      NaN  \n",
       "2                      Yes                 No              No      NaN  \n",
       "3                    Maybe                 No             Yes      NaN  \n",
       "4                      Yes         Don't know              No      NaN  \n",
       "...                    ...                ...             ...      ...  \n",
       "1254                    No         Don't know              No      NaN  \n",
       "1255                    No                Yes              No      NaN  \n",
       "1256                    No                 No              No      NaN  \n",
       "1257                    No                 No              No      NaN  \n",
       "1258                    No         Don't know              No      NaN  \n",
       "\n",
       "[1259 rows x 27 columns]"
      ]
     },
     "execution_count": 2,
     "metadata": {},
     "output_type": "execute_result"
    }
   ],
   "source": [
    "#Read csv\n",
    "data_2014 = pd.read_csv(\"1-Data/OSMI 2014 Mental Health in Tech Survey Results - OSMI Mental Health in Tech Survey 2019.csv\")\n",
    "data_2014"
   ]
  },
  {
   "cell_type": "code",
   "execution_count": 3,
   "id": "79d5a4f7",
   "metadata": {},
   "outputs": [
    {
     "name": "stdout",
     "output_type": "stream",
     "text": [
      "<class 'pandas.core.frame.DataFrame'>\n",
      "RangeIndex: 1259 entries, 0 to 1258\n",
      "Data columns (total 27 columns):\n",
      " #   Column                     Non-Null Count  Dtype \n",
      "---  ------                     --------------  ----- \n",
      " 0   Timestamp                  1259 non-null   object\n",
      " 1   Age                        1259 non-null   int64 \n",
      " 2   Gender                     1259 non-null   object\n",
      " 3   Country                    1259 non-null   object\n",
      " 4   state                      744 non-null    object\n",
      " 5   self_employed              1241 non-null   object\n",
      " 6   family_history             1259 non-null   object\n",
      " 7   treatment                  1259 non-null   object\n",
      " 8   work_interfere             995 non-null    object\n",
      " 9   no_employees               1259 non-null   object\n",
      " 10  remote_work                1259 non-null   object\n",
      " 11  tech_company               1259 non-null   object\n",
      " 12  benefits                   1259 non-null   object\n",
      " 13  care_options               1259 non-null   object\n",
      " 14  wellness_program           1259 non-null   object\n",
      " 15  seek_help                  1259 non-null   object\n",
      " 16  anonymity                  1259 non-null   object\n",
      " 17  leave                      1259 non-null   object\n",
      " 18  mental_health_consequence  1259 non-null   object\n",
      " 19  phys_health_consequence    1259 non-null   object\n",
      " 20  coworkers                  1259 non-null   object\n",
      " 21  supervisor                 1259 non-null   object\n",
      " 22  mental_health_interview    1259 non-null   object\n",
      " 23  phys_health_interview      1259 non-null   object\n",
      " 24  mental_vs_physical         1259 non-null   object\n",
      " 25  obs_consequence            1259 non-null   object\n",
      " 26  comments                   164 non-null    object\n",
      "dtypes: int64(1), object(26)\n",
      "memory usage: 265.7+ KB\n"
     ]
    }
   ],
   "source": [
    "data_2014.info()"
   ]
  },
  {
   "cell_type": "code",
   "execution_count": 4,
   "id": "656485c7",
   "metadata": {},
   "outputs": [
    {
     "data": {
      "text/html": [
       "<div>\n",
       "<style scoped>\n",
       "    .dataframe tbody tr th:only-of-type {\n",
       "        vertical-align: middle;\n",
       "    }\n",
       "\n",
       "    .dataframe tbody tr th {\n",
       "        vertical-align: top;\n",
       "    }\n",
       "\n",
       "    .dataframe thead th {\n",
       "        text-align: right;\n",
       "    }\n",
       "</style>\n",
       "<table border=\"1\" class=\"dataframe\">\n",
       "  <thead>\n",
       "    <tr style=\"text-align: right;\">\n",
       "      <th></th>\n",
       "      <th>Age</th>\n",
       "      <th>Gender</th>\n",
       "      <th>Country</th>\n",
       "      <th>treatment</th>\n",
       "      <th>no_employees</th>\n",
       "      <th>remote_work</th>\n",
       "      <th>tech_company</th>\n",
       "      <th>benefits</th>\n",
       "      <th>care_options</th>\n",
       "      <th>wellness_program</th>\n",
       "      <th>mental_health_consequence</th>\n",
       "    </tr>\n",
       "  </thead>\n",
       "  <tbody>\n",
       "    <tr>\n",
       "      <th>0</th>\n",
       "      <td>37</td>\n",
       "      <td>Female</td>\n",
       "      <td>United States</td>\n",
       "      <td>Yes</td>\n",
       "      <td>6-25</td>\n",
       "      <td>No</td>\n",
       "      <td>Yes</td>\n",
       "      <td>Yes</td>\n",
       "      <td>Not sure</td>\n",
       "      <td>No</td>\n",
       "      <td>No</td>\n",
       "    </tr>\n",
       "    <tr>\n",
       "      <th>1</th>\n",
       "      <td>44</td>\n",
       "      <td>M</td>\n",
       "      <td>United States</td>\n",
       "      <td>No</td>\n",
       "      <td>More than 1000</td>\n",
       "      <td>No</td>\n",
       "      <td>No</td>\n",
       "      <td>Don't know</td>\n",
       "      <td>No</td>\n",
       "      <td>Don't know</td>\n",
       "      <td>Maybe</td>\n",
       "    </tr>\n",
       "    <tr>\n",
       "      <th>2</th>\n",
       "      <td>32</td>\n",
       "      <td>Male</td>\n",
       "      <td>Canada</td>\n",
       "      <td>No</td>\n",
       "      <td>6-25</td>\n",
       "      <td>No</td>\n",
       "      <td>Yes</td>\n",
       "      <td>No</td>\n",
       "      <td>No</td>\n",
       "      <td>No</td>\n",
       "      <td>No</td>\n",
       "    </tr>\n",
       "    <tr>\n",
       "      <th>3</th>\n",
       "      <td>31</td>\n",
       "      <td>Male</td>\n",
       "      <td>United Kingdom</td>\n",
       "      <td>Yes</td>\n",
       "      <td>26-100</td>\n",
       "      <td>No</td>\n",
       "      <td>Yes</td>\n",
       "      <td>No</td>\n",
       "      <td>Yes</td>\n",
       "      <td>No</td>\n",
       "      <td>Yes</td>\n",
       "    </tr>\n",
       "    <tr>\n",
       "      <th>4</th>\n",
       "      <td>31</td>\n",
       "      <td>Male</td>\n",
       "      <td>United States</td>\n",
       "      <td>No</td>\n",
       "      <td>100-500</td>\n",
       "      <td>Yes</td>\n",
       "      <td>Yes</td>\n",
       "      <td>Yes</td>\n",
       "      <td>No</td>\n",
       "      <td>Don't know</td>\n",
       "      <td>No</td>\n",
       "    </tr>\n",
       "  </tbody>\n",
       "</table>\n",
       "</div>"
      ],
      "text/plain": [
       "   Age  Gender         Country treatment    no_employees remote_work  \\\n",
       "0   37  Female   United States       Yes            6-25          No   \n",
       "1   44       M   United States        No  More than 1000          No   \n",
       "2   32    Male          Canada        No            6-25          No   \n",
       "3   31    Male  United Kingdom       Yes          26-100          No   \n",
       "4   31    Male   United States        No         100-500         Yes   \n",
       "\n",
       "  tech_company    benefits care_options wellness_program  \\\n",
       "0          Yes         Yes     Not sure               No   \n",
       "1           No  Don't know           No       Don't know   \n",
       "2          Yes          No           No               No   \n",
       "3          Yes          No          Yes               No   \n",
       "4          Yes         Yes           No       Don't know   \n",
       "\n",
       "  mental_health_consequence  \n",
       "0                        No  \n",
       "1                     Maybe  \n",
       "2                        No  \n",
       "3                       Yes  \n",
       "4                        No  "
      ]
     },
     "metadata": {},
     "output_type": "display_data"
    },
    {
     "name": "stdout",
     "output_type": "stream",
     "text": [
      "The total number of participants in the 2019 survey was 1259\n"
     ]
    }
   ],
   "source": [
    "#cleaning data and extracting only relevant columns\n",
    "data_2014_clean=data_2014.iloc[:,[1,2,3,7,9,10,11,12,13,14,18]]\n",
    "display(data_2014_clean.head())\n",
    "\n",
    "#Obtain total number of participants in survey\n",
    "total_participants=data_2014.shape[0]\n",
    "print(\"The total number of participants in the 2019 survey was \"+str(total_participants))"
   ]
  },
  {
   "cell_type": "code",
   "execution_count": 5,
   "id": "9871d9cd",
   "metadata": {},
   "outputs": [
    {
     "data": {
      "text/plain": [
       "Yes    1031\n",
       "No      228\n",
       "Name: tech_company, dtype: int64"
      ]
     },
     "execution_count": 5,
     "metadata": {},
     "output_type": "execute_result"
    }
   ],
   "source": [
    "data_2014_clean.tech_company.value_counts()"
   ]
  },
  {
   "cell_type": "code",
   "execution_count": 6,
   "id": "08b545c0",
   "metadata": {},
   "outputs": [
    {
     "data": {
      "text/plain": [
       "49"
      ]
     },
     "execution_count": 6,
     "metadata": {},
     "output_type": "execute_result"
    }
   ],
   "source": [
    "# Number Unique Values in the Column Gender\n",
    "data_2014_clean[\"Gender\"].nunique()"
   ]
  },
  {
   "cell_type": "code",
   "execution_count": 7,
   "id": "6b8ff320",
   "metadata": {},
   "outputs": [
    {
     "data": {
      "text/plain": [
       "array(['Female', 'M', 'Male', 'male', 'female', 'm', 'Male-ish', 'maile',\n",
       "       'Trans-female', 'Cis Female', 'F', 'something kinda male?',\n",
       "       'Cis Male', 'Woman', 'f', 'Mal', 'Male (CIS)', 'queer/she/they',\n",
       "       'non-binary', 'Femake', 'woman', 'Make', 'Nah', 'All', 'Enby',\n",
       "       'fluid', 'Genderqueer', 'Female ', 'Androgyne', 'Agender',\n",
       "       'cis-female/femme', 'Guy (-ish) ^_^', 'male leaning androgynous',\n",
       "       'Male ', 'Man', 'Trans woman', 'msle', 'Neuter', 'Female (trans)',\n",
       "       'queer', 'Female (cis)', 'Mail', 'cis male', 'A little about you',\n",
       "       'Malr', 'p', 'femail', 'Cis Man',\n",
       "       'ostensibly male, unsure what that really means'], dtype=object)"
      ]
     },
     "execution_count": 7,
     "metadata": {},
     "output_type": "execute_result"
    }
   ],
   "source": [
    "# Different Values in Column\n",
    "data_2014_clean[\"Gender\"].unique()"
   ]
  },
  {
   "cell_type": "code",
   "execution_count": 8,
   "id": "a80b05dd",
   "metadata": {},
   "outputs": [
    {
     "data": {
      "text/plain": [
       "array(['Female', 'Male', 'Others'], dtype=object)"
      ]
     },
     "execution_count": 8,
     "metadata": {},
     "output_type": "execute_result"
    }
   ],
   "source": [
    "# Cleaning and Reducing Categories\n",
    "\n",
    "# Difine Dict with the key-value pair to remap.\n",
    "conv = {'male':'Male','M':'Male','m':'Male','Make':'Male','Man':'Male','Malr':'Male',\n",
    "        'Male (CIS)':'Male','Male ':'Male','Cis Male':'Male','Mail':'Male',\n",
    "        'Cis Male':'Male','cis male':'Male','msle':'Male','Cis Man':'Male',\n",
    "        'maile':'Male','Mal':'Male',\n",
    "        'female':'Female','F':'Female','f':'Female','Woman':'Female',\n",
    "        'Femake':'Female','Female ':'Female','femail':'Female', \n",
    "        'Female (cis)':'Female','woman':'Female','cis-female/femme':'Female',\n",
    "        'Cis Female':'Female',\n",
    "        'Female (trans)':'Others','Androgyne':'Others','queer':'Others','Neuter':'Others',\n",
    "        'Trans woman':'Others','fluid':'Others','non-binary':'Others','queer/she/they':'Others',\n",
    "        'Enby':'Others','Trans-female':'Female','Genderqueer':'Others',\n",
    "        'Agender':'Others','something kinda male?':'Others',\n",
    "        'Male-ish':'Others','ostensibly male, unsure what that really means':'Others',\n",
    "        'Nah':'Others','Guy (-ish) ^_^':'Others',\n",
    "        'male leaning androgynous':'Others','A little about you':'Others', 'p': 'Others', 'All': 'Others'}\n",
    "data_2014_clean=data_2014_clean.replace({\"Gender\": conv})\n",
    "\n",
    "data_2014_clean[\"Gender\"].unique()\n"
   ]
  },
  {
   "cell_type": "markdown",
   "id": "506f4025",
   "metadata": {},
   "source": [
    "## Comparing Attitudes Towards Mental Health in the Tech & Non-Tech Industries"
   ]
  },
  {
   "cell_type": "code",
   "execution_count": 9,
   "id": "d0b44c9e",
   "metadata": {},
   "outputs": [],
   "source": [
    "# Filtering for tech companies\n",
    "filt = (data_2014[\"tech_company\"] == \"Yes\")\n",
    "data_tech = data_2014[filt]\n",
    "\n",
    "# Filtering for non-tech companies\n",
    "filt = (data_2014[\"tech_company\"] == \"\" \"No\")\n",
    "data_nontech = data_2014[filt]"
   ]
  },
  {
   "cell_type": "markdown",
   "id": "59a8a8a2",
   "metadata": {},
   "source": [
    "### Tech and Non-Tech Companies Attitudes towards Mental Health Benefits Offered"
   ]
  },
  {
   "cell_type": "code",
   "execution_count": 10,
   "id": "5e42f9fa",
   "metadata": {
    "scrolled": true
   },
   "outputs": [
    {
     "data": {
      "text/html": [
       "<div>\n",
       "<style scoped>\n",
       "    .dataframe tbody tr th:only-of-type {\n",
       "        vertical-align: middle;\n",
       "    }\n",
       "\n",
       "    .dataframe tbody tr th {\n",
       "        vertical-align: top;\n",
       "    }\n",
       "\n",
       "    .dataframe thead th {\n",
       "        text-align: right;\n",
       "    }\n",
       "</style>\n",
       "<table border=\"1\" class=\"dataframe\">\n",
       "  <thead>\n",
       "    <tr style=\"text-align: right;\">\n",
       "      <th></th>\n",
       "      <th>Response</th>\n",
       "      <th>No of Response</th>\n",
       "      <th>Total Participants</th>\n",
       "      <th>%</th>\n",
       "    </tr>\n",
       "  </thead>\n",
       "  <tbody>\n",
       "    <tr>\n",
       "      <th>0</th>\n",
       "      <td>Yes</td>\n",
       "      <td>477</td>\n",
       "      <td>1259</td>\n",
       "      <td>38.0</td>\n",
       "    </tr>\n",
       "    <tr>\n",
       "      <th>1</th>\n",
       "      <td>Don't know</td>\n",
       "      <td>408</td>\n",
       "      <td>1259</td>\n",
       "      <td>32.0</td>\n",
       "    </tr>\n",
       "    <tr>\n",
       "      <th>2</th>\n",
       "      <td>No</td>\n",
       "      <td>374</td>\n",
       "      <td>1259</td>\n",
       "      <td>30.0</td>\n",
       "    </tr>\n",
       "  </tbody>\n",
       "</table>\n",
       "</div>"
      ],
      "text/plain": [
       "     Response  No of Response  Total Participants     %\n",
       "0         Yes             477                1259  38.0\n",
       "1  Don't know             408                1259  32.0\n",
       "2          No             374                1259  30.0"
      ]
     },
     "metadata": {},
     "output_type": "display_data"
    },
    {
     "data": {
      "image/png": "[encoded data removed]",
      "text/plain": [
       "<Figure size 1080x720 with 1 Axes>"
      ]
     },
     "metadata": {
      "needs_background": "light"
     },
     "output_type": "display_data"
    },
    {
     "name": "stdout",
     "output_type": "stream",
     "text": [
      "% of non-tech companies providing mental health benefits\n"
     ]
    },
    {
     "data": {
      "text/html": [
       "<div>\n",
       "<style scoped>\n",
       "    .dataframe tbody tr th:only-of-type {\n",
       "        vertical-align: middle;\n",
       "    }\n",
       "\n",
       "    .dataframe tbody tr th {\n",
       "        vertical-align: top;\n",
       "    }\n",
       "\n",
       "    .dataframe thead th {\n",
       "        text-align: right;\n",
       "    }\n",
       "</style>\n",
       "<table border=\"1\" class=\"dataframe\">\n",
       "  <thead>\n",
       "    <tr style=\"text-align: right;\">\n",
       "      <th></th>\n",
       "      <th>Response</th>\n",
       "      <th>Participants Count</th>\n",
       "      <th>Total Participants</th>\n",
       "      <th>%</th>\n",
       "    </tr>\n",
       "  </thead>\n",
       "  <tbody>\n",
       "    <tr>\n",
       "      <th>0</th>\n",
       "      <td>Don't know</td>\n",
       "      <td>73</td>\n",
       "      <td>228</td>\n",
       "      <td>32.0</td>\n",
       "    </tr>\n",
       "    <tr>\n",
       "      <th>1</th>\n",
       "      <td>No</td>\n",
       "      <td>51</td>\n",
       "      <td>228</td>\n",
       "      <td>22.0</td>\n",
       "    </tr>\n",
       "    <tr>\n",
       "      <th>2</th>\n",
       "      <td>Yes</td>\n",
       "      <td>104</td>\n",
       "      <td>228</td>\n",
       "      <td>46.0</td>\n",
       "    </tr>\n",
       "  </tbody>\n",
       "</table>\n",
       "</div>"
      ],
      "text/plain": [
       "     Response  Participants Count  Total Participants     %\n",
       "0  Don't know                  73                 228  32.0\n",
       "1          No                  51                 228  22.0\n",
       "2         Yes                 104                 228  46.0"
      ]
     },
     "metadata": {},
     "output_type": "display_data"
    },
    {
     "name": "stdout",
     "output_type": "stream",
     "text": [
      "% of tech companies providing mental health benefits\n"
     ]
    },
    {
     "data": {
      "text/html": [
       "<div>\n",
       "<style scoped>\n",
       "    .dataframe tbody tr th:only-of-type {\n",
       "        vertical-align: middle;\n",
       "    }\n",
       "\n",
       "    .dataframe tbody tr th {\n",
       "        vertical-align: top;\n",
       "    }\n",
       "\n",
       "    .dataframe thead th {\n",
       "        text-align: right;\n",
       "    }\n",
       "</style>\n",
       "<table border=\"1\" class=\"dataframe\">\n",
       "  <thead>\n",
       "    <tr style=\"text-align: right;\">\n",
       "      <th></th>\n",
       "      <th>Response</th>\n",
       "      <th>Participants Count</th>\n",
       "      <th>Total Participants</th>\n",
       "      <th>%</th>\n",
       "    </tr>\n",
       "  </thead>\n",
       "  <tbody>\n",
       "    <tr>\n",
       "      <th>0</th>\n",
       "      <td>Don't know</td>\n",
       "      <td>335</td>\n",
       "      <td>1031</td>\n",
       "      <td>32.0</td>\n",
       "    </tr>\n",
       "    <tr>\n",
       "      <th>1</th>\n",
       "      <td>No</td>\n",
       "      <td>323</td>\n",
       "      <td>1031</td>\n",
       "      <td>31.0</td>\n",
       "    </tr>\n",
       "    <tr>\n",
       "      <th>2</th>\n",
       "      <td>Yes</td>\n",
       "      <td>373</td>\n",
       "      <td>1031</td>\n",
       "      <td>36.0</td>\n",
       "    </tr>\n",
       "  </tbody>\n",
       "</table>\n",
       "</div>"
      ],
      "text/plain": [
       "     Response  Participants Count  Total Participants     %\n",
       "0  Don't know                 335                1031  32.0\n",
       "1          No                 323                1031  31.0\n",
       "2         Yes                 373                1031  36.0"
      ]
     },
     "metadata": {},
     "output_type": "display_data"
    },
    {
     "data": {
      "image/png": "[encoded data removed]",
      "text/plain": [
       "<Figure size 1080x720 with 1 Axes>"
      ]
     },
     "metadata": {
      "needs_background": "light"
     },
     "output_type": "display_data"
    }
   ],
   "source": [
    "#Creating data frame for benefits offered\n",
    "benefits_awareness=pd.DataFrame(data_2014['benefits'].value_counts())\n",
    "benefits_awareness[\"Total Participants\"]=total_participants\n",
    "benefits_awareness.reset_index(inplace=True)\n",
    "benefits_awareness=benefits_awareness.rename(columns={\"index\":\"Response\",\"benefits\":\"No of Response\"})\n",
    "benefits_awareness[\"%\"]=round((benefits_awareness[\"No of Response\"]/benefits_awareness[\"Total Participants\"])*100,0)\n",
    "display(benefits_awareness)\n",
    "\n",
    "#Creating bar chart to display the results\n",
    "plt.figure(figsize=(15,10))\n",
    "plt.bar(benefits_awareness[\"Response\"],benefits_awareness[\"%\"], color='cadetblue', alpha=0.5, align=\"center\")\n",
    "#plt.xticks(rotation=\"vertical\")\n",
    "plt.title(\"Availability of Mental Health Benefits\",size=18,fontweight=\"bold\")\n",
    "plt.xlabel(\"Response\",size=14,fontweight = \"bold\")\n",
    "plt.ylabel(\"% of Participants\",size=14,fontweight = \"bold\")\n",
    "\n",
    "#saving outputs\n",
    "plt.savefig(\"3-Outputs/Mental_health_benefits.png\")\n",
    "\n",
    "plt.show()\n",
    "\n",
    "#comparing tech and non _tech \n",
    "#non_tech\n",
    "benefits=data_2014.groupby(\"tech_company\")\n",
    "non_tech=benefits.get_group(\"No\")\n",
    "non_tech=pd.DataFrame(non_tech.groupby(\"benefits\").size())\n",
    "non_tech.reset_index(inplace=True)\n",
    "non_tech=non_tech.rename(columns={\"benefits\":\"Response\",0:\"Participants Count\"})\n",
    "non_tech[\"Total Participants\"]=non_tech.iloc[:,1].sum()\n",
    "non_tech[\"%\"]=round((non_tech[\"Participants Count\"]/non_tech[\"Total Participants\"])*100,0)\n",
    "print(\"% of non-tech companies providing mental health benefits\")\n",
    "display(non_tech)\n",
    "\n",
    "#tech\n",
    "benefits=data_2014.groupby(\"tech_company\")\n",
    "tech=benefits.get_group(\"Yes\")\n",
    "tech=pd.DataFrame(tech.groupby(\"benefits\").size())\n",
    "tech.reset_index(inplace=True)\n",
    "tech=tech.rename(columns={\"benefits\":\"Response\",0:\"Participants Count\"})\n",
    "tech[\"Total Participants\"]=tech.iloc[:,1].sum()\n",
    "tech[\"%\"]=round((tech[\"Participants Count\"]/tech[\"Total Participants\"])*100,0)\n",
    "print(\"% of tech companies providing mental health benefits\")\n",
    "display(tech)\n",
    "\n",
    "\n",
    "#Generating barcharts\n",
    "\n",
    "# Numbers of pairs of bars\n",
    "N = 3\n",
    "\n",
    "# Data on X-axis\n",
    "X1 = non_tech[\"%\"]\n",
    "X2 = tech[\"%\"]\n",
    "\n",
    "# Position of bars on x-axis\n",
    "ind = np.arange(N)\n",
    "\n",
    "# Figure size\n",
    "plt.figure(figsize=(15,10))\n",
    "\n",
    "# Width of a bar \n",
    "width = 0.3       \n",
    "\n",
    "# Plotting\n",
    "plt.bar(ind, X1 , width, label='non_tech', color=\"steelblue\", alpha=0.5)\n",
    "plt.bar(ind + width, X2, width, label='tech', color=\"darksalmon\", alpha=0.5)\n",
    "\n",
    "plt.xlabel(\"Response\", size=14,fontweight = \"bold\")\n",
    "plt.ylabel(\"% of Participants\", size=14,fontweight = \"bold\")\n",
    "plt.title(\"Availability of Mental Health Benefits Tech Vs Non-Tech\", size=18,fontweight = \"bold\")\n",
    "\n",
    "# xticks()\n",
    "plt.xticks(ind + width / 2, (\"Don't know\", 'No', 'Yes'))\n",
    "\n",
    "# Finding the best position for legends and putting it\n",
    "plt.legend(loc='best')\n",
    "\n",
    "plt.show()\n"
   ]
  },
  {
   "cell_type": "markdown",
   "id": "9998a44d",
   "metadata": {},
   "source": [
    "### Analysis\n",
    "\n",
    "Overall 38% of participants said that their companies offered mental health benefits, in contrast 30% said that their companies did not offer any benefits. Shockingly, 32% they did not know if this was part of their packagaes. This suggests that even if companies are offering benefits there is not enough communication and awareness. This may be because organisations have a coverted preference where they do not wish employees to utilise these, or it is not a priority for them. \n",
    "\n",
    "The second bar chart above looks at the responses of employees in tech and non-tech companies regarding mental health benefits provided by their employers. 46% of employees of non-tech companies said that their employers provide mental health benefits compared to 36% for tech companies. However in both instances 32% of employees were not aware if their companies did or did not provide mental health benefits.\n",
    "\n",
    "Some recommendations may be to include a description of the mental health benefits available in newletters, emails, meetings, posters etc. to raise more awareness. The tech industry could look to non-tech companies for inspiration to evaluate what mental health benefits are being offered, how they are budgeting this and try to implement more benefits.  "
   ]
  },
  {
   "cell_type": "markdown",
   "id": "869bb1f1",
   "metadata": {},
   "source": [
    "### Tech and non-tech companies employee awareness regarding mental health benefits and how to seek help"
   ]
  },
  {
   "cell_type": "code",
   "execution_count": 11,
   "id": "d531b57d",
   "metadata": {},
   "outputs": [
    {
     "name": "stdout",
     "output_type": "stream",
     "text": [
      "Percentage of Employees aware of how to seek help in non tech companies\n"
     ]
    },
    {
     "data": {
      "text/html": [
       "<div>\n",
       "<style scoped>\n",
       "    .dataframe tbody tr th:only-of-type {\n",
       "        vertical-align: middle;\n",
       "    }\n",
       "\n",
       "    .dataframe tbody tr th {\n",
       "        vertical-align: top;\n",
       "    }\n",
       "\n",
       "    .dataframe thead th {\n",
       "        text-align: right;\n",
       "    }\n",
       "</style>\n",
       "<table border=\"1\" class=\"dataframe\">\n",
       "  <thead>\n",
       "    <tr style=\"text-align: right;\">\n",
       "      <th></th>\n",
       "      <th>Response</th>\n",
       "      <th>Participants Count</th>\n",
       "      <th>Total Participants</th>\n",
       "      <th>%</th>\n",
       "    </tr>\n",
       "  </thead>\n",
       "  <tbody>\n",
       "    <tr>\n",
       "      <th>0</th>\n",
       "      <td>Don't know</td>\n",
       "      <td>67</td>\n",
       "      <td>228</td>\n",
       "      <td>29.0</td>\n",
       "    </tr>\n",
       "    <tr>\n",
       "      <th>1</th>\n",
       "      <td>No</td>\n",
       "      <td>92</td>\n",
       "      <td>228</td>\n",
       "      <td>40.0</td>\n",
       "    </tr>\n",
       "    <tr>\n",
       "      <th>2</th>\n",
       "      <td>Yes</td>\n",
       "      <td>69</td>\n",
       "      <td>228</td>\n",
       "      <td>30.0</td>\n",
       "    </tr>\n",
       "  </tbody>\n",
       "</table>\n",
       "</div>"
      ],
      "text/plain": [
       "     Response  Participants Count  Total Participants     %\n",
       "0  Don't know                  67                 228  29.0\n",
       "1          No                  92                 228  40.0\n",
       "2         Yes                  69                 228  30.0"
      ]
     },
     "metadata": {},
     "output_type": "display_data"
    },
    {
     "name": "stdout",
     "output_type": "stream",
     "text": [
      "Percentage of Employees aware of how to seek help in tech companies\n"
     ]
    },
    {
     "data": {
      "text/html": [
       "<div>\n",
       "<style scoped>\n",
       "    .dataframe tbody tr th:only-of-type {\n",
       "        vertical-align: middle;\n",
       "    }\n",
       "\n",
       "    .dataframe tbody tr th {\n",
       "        vertical-align: top;\n",
       "    }\n",
       "\n",
       "    .dataframe thead th {\n",
       "        text-align: right;\n",
       "    }\n",
       "</style>\n",
       "<table border=\"1\" class=\"dataframe\">\n",
       "  <thead>\n",
       "    <tr style=\"text-align: right;\">\n",
       "      <th></th>\n",
       "      <th>Response</th>\n",
       "      <th>Participants Count</th>\n",
       "      <th>Total Participants</th>\n",
       "      <th>%</th>\n",
       "    </tr>\n",
       "  </thead>\n",
       "  <tbody>\n",
       "    <tr>\n",
       "      <th>0</th>\n",
       "      <td>Don't know</td>\n",
       "      <td>296</td>\n",
       "      <td>1031</td>\n",
       "      <td>29.0</td>\n",
       "    </tr>\n",
       "    <tr>\n",
       "      <th>1</th>\n",
       "      <td>No</td>\n",
       "      <td>554</td>\n",
       "      <td>1031</td>\n",
       "      <td>54.0</td>\n",
       "    </tr>\n",
       "    <tr>\n",
       "      <th>2</th>\n",
       "      <td>Yes</td>\n",
       "      <td>181</td>\n",
       "      <td>1031</td>\n",
       "      <td>18.0</td>\n",
       "    </tr>\n",
       "  </tbody>\n",
       "</table>\n",
       "</div>"
      ],
      "text/plain": [
       "     Response  Participants Count  Total Participants     %\n",
       "0  Don't know                 296                1031  29.0\n",
       "1          No                 554                1031  54.0\n",
       "2         Yes                 181                1031  18.0"
      ]
     },
     "metadata": {},
     "output_type": "display_data"
    },
    {
     "data": {
      "image/png": "[encoded data removed]",
      "text/plain": [
       "<Figure size 1080x720 with 1 Axes>"
      ]
     },
     "metadata": {
      "needs_background": "light"
     },
     "output_type": "display_data"
    },
    {
     "data": {
      "image/png": "[encoded data removed]",
      "text/plain": [
       "<Figure size 1080x720 with 1 Axes>"
      ]
     },
     "metadata": {
      "needs_background": "light"
     },
     "output_type": "display_data"
    }
   ],
   "source": [
    "#seek help\n",
    "#non_tech\n",
    "seek_help=data_2014.groupby(\"tech_company\")\n",
    "non_tech1=seek_help.get_group(\"No\")\n",
    "non_tech1=pd.DataFrame(non_tech1.groupby(\"seek_help\").size())\n",
    "non_tech1.reset_index(inplace=True)\n",
    "non_tech1=non_tech1.rename(columns={\"seek_help\":\"Response\",0:\"Participants Count\"})\n",
    "non_tech1[\"Total Participants\"]=non_tech1.iloc[:,1].sum()\n",
    "non_tech1[\"%\"]=round((non_tech1[\"Participants Count\"]/non_tech1[\"Total Participants\"])*100,0)\n",
    "print(\"Percentage of Employees aware of how to seek help in non tech companies\")\n",
    "display(non_tech1)\n",
    "\n",
    "#tech\n",
    "seek_help=data_2014.groupby(\"tech_company\")\n",
    "tech1=seek_help.get_group(\"Yes\")\n",
    "tech1=pd.DataFrame(tech1.groupby(\"seek_help\").size())\n",
    "tech1.reset_index(inplace=True)\n",
    "tech1=tech1.rename(columns={\"seek_help\":\"Response\",0:\"Participants Count\"})\n",
    "tech1[\"Total Participants\"]=tech1.iloc[:,1].sum()\n",
    "tech1[\"%\"]=round((tech1[\"Participants Count\"]/tech1[\"Total Participants\"])*100,0)\n",
    "print(\"Percentage of Employees aware of how to seek help in tech companies\")\n",
    "display(tech1)\n",
    "\n",
    "# Numbers of pairs of bars you want\n",
    "N = 3\n",
    "\n",
    "# Data on X-axis\n",
    "X3 = non_tech1[\"%\"]\n",
    "X4 = tech1[\"%\"]\n",
    "\n",
    "# Position of bars on x-axis\n",
    "ind = np.arange(N)\n",
    "\n",
    "# Figure size\n",
    "plt.figure(figsize=(15,10))\n",
    "\n",
    "# Width of a bar \n",
    "width = 0.3       \n",
    "\n",
    "# Plotting\n",
    "plt.bar(ind, X3 , width, label='non_tech',color=\"steelblue\",alpha=0.5)\n",
    "plt.bar(ind + width, X4, width, label='tech',color=\"darksalmon\",alpha=0.5)\n",
    "\n",
    "plt.xlabel(\"Response\",size=14,fontweight = \"bold\")\n",
    "plt.ylabel(\"% of Participants\",size=14, fontweight = \"bold\")\n",
    "plt.title(\"Awareness of Available Resources and Ways to Seek Help for Mental Health Issues\",size=18,fontweight = \"bold\")\n",
    "\n",
    "# xticks()\n",
    "plt.xticks(ind + width / 2, (\"Don't know\", 'No', 'Yes'))\n",
    "\n",
    "# Finding the best position for legends and putting it\n",
    "plt.legend(loc='best')\n",
    "\n",
    "plt.show()\n",
    "\n",
    "# Plotting graph for tech comapnies only\n",
    "plt.figure(figsize=(15,10))\n",
    "\n",
    "plt.bar(ind, X4, 0.5, label='tech',color=\"cadetblue\",alpha=0.5)\n",
    "plt.xlabel(\"Response\",size=14,fontweight = \"bold\")\n",
    "plt.ylabel(\"% of Participants\",size=14, fontweight = \"bold\")\n",
    "plt.title(\"Awareness of Available Resources and Ways to Seek Help for Mental Health Issues\",size=18,fontweight = \"bold\")\n",
    "\n",
    "plt.xticks(ind, (\"Don't know\", 'No', 'Yes'))\n",
    "\n",
    "#saving outputs\n",
    "plt.savefig(\"3-Outputs/Mental_health_benefits_awareness_tech.png\")\n",
    "\n",
    "plt.show()\n"
   ]
  },
  {
   "cell_type": "markdown",
   "id": "5899bb18",
   "metadata": {},
   "source": [
    "## Analysis\n",
    "\n",
    "54% of employees of tech companies said that their employers did not provide resources to learn more about mental health issues or how to seek help. This suggests that awareness of the benefits, discussions about such issues and resources for additional help are quite limited in the tech workplaces and have room for improvement."
   ]
  },
  {
   "cell_type": "markdown",
   "id": "87540a7d",
   "metadata": {},
   "source": [
    "### Mental Health Consequences in Tech and Non-Tech Companies"
   ]
  },
  {
   "cell_type": "code",
   "execution_count": 12,
   "id": "983f66ce",
   "metadata": {},
   "outputs": [
    {
     "data": {
      "image/png": "[encoded data removed]",
      "text/plain": [
       "<Figure size 432x288 with 1 Axes>"
      ]
     },
     "metadata": {},
     "output_type": "display_data"
    },
    {
     "data": {
      "image/png": "[encoded data removed]",
      "text/plain": [
       "<Figure size 432x288 with 1 Axes>"
      ]
     },
     "metadata": {},
     "output_type": "display_data"
    }
   ],
   "source": [
    "#Creating data frame for mental health consequences\n",
    "mental_health_consequence=pd.DataFrame(data_tech['mental_health_consequence'].value_counts())\n",
    "mental_health_consequence[\"Total Participants\"]=total_participants\n",
    "mental_health_consequence.reset_index(inplace=True)\n",
    "mental_health_consequence=mental_health_consequence.rename(columns={\"index\":\"Response\",\"mental_health_consequence\":\"No of Response\"})\n",
    "mental_health_consequence[\"%\"]=round((mental_health_consequence[\"No of Response\"]/mental_health_consequence[\"Total Participants\"])*100,0)\n",
    "\n",
    "# Create a Pie chart for comparisons\n",
    "plt.pie(mental_health_consequence[\"%\"])\n",
    "labels = \"Yes\", \"No\", \"Dont't Know\"\n",
    "plt.title('Overall Tech Industry Consequences to Mental Health Issues', size = 20)\n",
    "\n",
    "mylabels = [\"Yes\", \"No\", \"Maybe\"]\n",
    "mycolors = [\"cadetblue\", \"darksalmon\", \"bisque\"]\n",
    "myexplode = [0.2, 0, 0]\n",
    "\n",
    "plt.pie(mental_health_consequence [\"%\"], labels = mylabels, explode = myexplode, colors = mycolors, autopct=\"%1.0f%%\")\n",
    "\n",
    "plt.show()\n",
    "\n",
    "#Creating data frame for consequence for non tech companies\n",
    "mental_health_consequence=pd.DataFrame(data_nontech['mental_health_consequence'].value_counts())\n",
    "mental_health_consequence[\"Total Participants\"]=total_participants\n",
    "mental_health_consequence.reset_index(inplace=True)\n",
    "mental_health_consequence=mental_health_consequence.rename(columns={\"index\":\"Response\",\"mental_health_consequence\":\"No of Response\"})\n",
    "mental_health_consequence[\"%\"]=round((mental_health_consequence[\"No of Response\"]/mental_health_consequence[\"Total Participants\"])*100,0)\n",
    "\n",
    "# Create a Pie chart for comparisons\n",
    "plt.pie(mental_health_consequence[\"%\"])\n",
    "labels = \"Yes\", \"No\", \"Dont't Know\"\n",
    "plt.title('Overall Non-Tech Industry Consequences to Mental Health Issues', size = 20)\n",
    "\n",
    "mylabels = [\"Yes\", \"No\", \"Maybe\"]\n",
    "mycolors = [\"cadetblue\", \"darksalmon\", \"bisque\"]\n",
    "myexplode = [0.2, 0, 0]\n",
    "\n",
    "plt.pie(mental_health_consequence [\"%\"], labels = mylabels, explode = myexplode, colors = mycolors, autopct=\"%1.0f%%\")\n",
    "\n",
    "plt.show()"
   ]
  },
  {
   "cell_type": "markdown",
   "id": "520613de",
   "metadata": {},
   "source": [
    "## Analysis\n",
    "\n",
    "The tech industry seems to have slighlty less negative conquences for mental health compared to non-tech industried. 41% of tech participants agreed to their company having consequences compared to 44% of non-tech particpants. However the figures show that may both industries have a high chance of negative consequences for mental health. Maybe there needs to be more regulations and laws protecting employee mental health. "
   ]
  },
  {
   "cell_type": "markdown",
   "id": "54a15397",
   "metadata": {},
   "source": [
    "### Gender Differences & Mental Health in Tech and Non-Tech Industries"
   ]
  },
  {
   "cell_type": "code",
   "execution_count": 13,
   "id": "82282dee",
   "metadata": {},
   "outputs": [
    {
     "data": {
      "text/plain": [
       "Male      990\n",
       "Female    248\n",
       "Others     21\n",
       "Name: Gender, dtype: int64"
      ]
     },
     "execution_count": 13,
     "metadata": {},
     "output_type": "execute_result"
    }
   ],
   "source": [
    "# Gender Value Counts\n",
    "data_2014_clean.Gender.value_counts()"
   ]
  },
  {
   "cell_type": "code",
   "execution_count": 14,
   "id": "0ae884a2",
   "metadata": {},
   "outputs": [
    {
     "data": {
      "image/png": "[encoded data removed]",
      "text/plain": [
       "<Figure size 1080x720 with 1 Axes>"
      ]
     },
     "metadata": {
      "needs_background": "light"
     },
     "output_type": "display_data"
    },
    {
     "data": {
      "image/png": "[encoded data removed]",
      "text/plain": [
       "<Figure size 1080x720 with 1 Axes>"
      ]
     },
     "metadata": {
      "needs_background": "light"
     },
     "output_type": "display_data"
    }
   ],
   "source": [
    "# Look at Gender and Treatement Columns and Plot \n",
    "mycolors = [\"darksalmon\", \"lightsteelblue\", \"tan\"]\n",
    "pd.crosstab(data_2014_clean['treatment'],data_2014_clean['Gender']).plot(kind='bar',color=mycolors,alpha=0.5,figsize=(15,10))\n",
    "plt.title('Gender vs Recieved Treatment',fontsize=18,fontweight=\"bold\")\n",
    "#saving outputs\n",
    "plt.savefig(\"3-Outputs/Gender_Vs_Treatment.png\")\n",
    "plt.show()\n",
    "\n",
    "\n",
    "# Gender Vs Mental Health Consequence\n",
    "mycolors = [\"darksalmon\", \"lightsteelblue\", \"tan\"]\n",
    "pd.crosstab(data_2014_clean['mental_health_consequence'],data_2014_clean['Gender']).plot(kind='bar',color=mycolors,alpha=0.5,figsize=(15,10))\n",
    "plt.title('Gender vs Mental Health Consequence',fontsize=18, fontweight=\"bold\")\n",
    "plt.show()"
   ]
  },
  {
   "cell_type": "markdown",
   "id": "c8228d1d",
   "metadata": {},
   "source": [
    "## Company Type and if they offer Wellness program\n"
   ]
  },
  {
   "cell_type": "code",
   "execution_count": 15,
   "id": "92b96090",
   "metadata": {},
   "outputs": [
    {
     "data": {
      "image/png": "[encoded data removed]",
      "text/plain": [
       "<Figure size 1080x720 with 1 Axes>"
      ]
     },
     "metadata": {
      "needs_background": "light"
     },
     "output_type": "display_data"
    }
   ],
   "source": [
    "data_2014_clean.tech_company.value_counts()\n",
    "mycolors = [\"darksalmon\", \"lightsteelblue\", \"tan\"]\n",
    "pd.crosstab(data_2014_clean['tech_company'], data_2014_clean['wellness_program']).plot(kind='bar',color=mycolors,alpha=0.5,figsize=(15,10))\n",
    "plt.title('Company Type & If They Offer Wellness Programs',fontsize=18,fontweight=\"bold\")\n",
    "\n",
    "plt.show()\n"
   ]
  },
  {
   "cell_type": "code",
   "execution_count": 16,
   "id": "e11dfafd",
   "metadata": {},
   "outputs": [
    {
     "name": "stdout",
     "output_type": "stream",
     "text": [
      " Total Number of Tech Companies: 1031 \n",
      " Total Number of Non- Tech Companies: 228 \n",
      " --------------------------------------------------------------- \n",
      " Tech Companies offering Wellness Programs: 162 \n",
      " Non-Tech Companies offering Wellness Programs are: 67 \n",
      " ---------------------------------------------------------------\n",
      " The % of Tech Compananies offering Wellness Programs: 15.71 \n",
      " The % of Non-Tech Compananies offering Wellness Programs: 29.39 \n",
      " --------------------------------------------------------------- \n"
     ]
    }
   ],
   "source": [
    "\n",
    "# Calculating Percentages to better justify Data and Plot\n",
    "tech_yes_yes = 0\n",
    "tech_no_yes = 0\n",
    "tech_companies = 1031\n",
    "non_tech_comp = 228\n",
    "\n",
    "for i in range(len(data_2014_clean['tech_company'])):\n",
    "    if data_2014_clean['tech_company'][i] == 'Yes' and data_2014_clean['wellness_program'][i] == 'Yes': \n",
    "        tech_yes_yes = tech_yes_yes + 1\n",
    "    \n",
    "    #if data_2014_clean['tech_company'][i] == 'Yes' and data_2014_clean['wellness_program'][i] == 'No': \n",
    "       # tech_yes_no = tech_yes_no + 1\n",
    "        \n",
    "    if data_2014_clean['tech_company'][i] == 'No' and data_2014_clean['wellness_program'][i] == 'Yes': \n",
    "        tech_no_yes = tech_no_yes + 1\n",
    "    \n",
    "    #if data_2014_clean['tech_company'][i] == 'No' and data_2014_clean['wellness_program'][i] == 'No': \n",
    "        #tech_no_no = tech_no_no + 1\n",
    "print(f' Total Number of Tech Companies: {tech_companies} ')\n",
    "print(f' Total Number of Non- Tech Companies: {non_tech_comp} ')\n",
    "print(f' --------------------------------------------------------------- ')        \n",
    "        \n",
    "print(f' Tech Companies offering Wellness Programs: {tech_yes_yes} ')\n",
    "#print(f' Then Number of Tech Companies not offering Wellness Programs are: {tech_yes_no} ')\n",
    "print(f' Non-Tech Companies offering Wellness Programs are: {tech_no_yes} ')\n",
    "#print(f' Then Number of Non-Tech Companies not offering Wellness Programs are: {tech_no_no} ')\n",
    "print(f' ---------------------------------------------------------------')\n",
    "\n",
    "# Percetages\n",
    "tech = ( tech_yes_yes/ tech_companies)*100\n",
    "print(f' The % of Tech Compananies offering Wellness Programs: {tech:.2f} ')\n",
    "non_tech = ( tech_no_yes/ non_tech_comp)*100\n",
    "print(f' The % of Non-Tech Compananies offering Wellness Programs: {non_tech:.2f} ')\n",
    "print(f' --------------------------------------------------------------- ')"
   ]
  },
  {
   "cell_type": "code",
   "execution_count": 17,
   "id": "699e977e",
   "metadata": {},
   "outputs": [
    {
     "data": {
      "text/plain": [
       "<Figure size 1080x720 with 0 Axes>"
      ]
     },
     "metadata": {},
     "output_type": "display_data"
    },
    {
     "data": {
      "image/png": "[encoded data removed]",
      "text/plain": [
       "<Figure size 432x288 with 1 Axes>"
      ]
     },
     "metadata": {
      "needs_background": "light"
     },
     "output_type": "display_data"
    }
   ],
   "source": [
    "\n",
    "# Plotting Genders vs suffering from MH in Tech\n",
    "plt.figure(figsize=(15,10))\n",
    "fig, ax = plt.subplots()\n",
    "bars = ax.bar(['Percetage of Tech', 'Percetage of Non-Tech'], [tech, non_tech],color=\"cadetblue\",alpha=0.5)\n",
    "plt.title(\"% of Tech and Non-Tech Offering Wellness Compared to Number of Companies\",fontweight=\"bold\")\n",
    "ax.bar_label(bars)\n",
    "\n",
    "plt.show()"
   ]
  },
  {
   "cell_type": "markdown",
   "id": "a25b21ae",
   "metadata": {},
   "source": [
    "### Analysis\n",
    "\n",
    "The Survey Data which was analysed provided the following conclusions: \n",
    "Tech companies offered wellness programs more than non-tech companies. \n",
    "Only 15.7 % of  Tech Companies offered wellness programs\n",
    "However 29.4 % of Non-Tech offered wellness programs\n",
    "Although tech companies do offer more wellness programs, however, the data represents non-tech companies offer more wellness programs overall compared to the volume of companies.\n"
   ]
  },
  {
   "cell_type": "markdown",
   "id": "6be67837",
   "metadata": {},
   "source": [
    "## Attitudes Towards Mental Health in the Tech Industry"
   ]
  },
  {
   "cell_type": "markdown",
   "id": "52b2b607",
   "metadata": {},
   "source": [
    "### Gender Differences in Mental Health Within The Tech Industry"
   ]
  },
  {
   "cell_type": "code",
   "execution_count": 18,
   "id": "1d1d000d",
   "metadata": {},
   "outputs": [
    {
     "name": "stdout",
     "output_type": "stream",
     "text": [
      " The Number of Males Undergoing Treatement for Mental Health in Tech are: 449 \n",
      " The Number of Males Undergoing Treatement for Mental Health in Tech are: 170 \n"
     ]
    },
    {
     "data": {
      "text/plain": [
       "Male      990\n",
       "Female    248\n",
       "Others     21\n",
       "Name: Gender, dtype: int64"
      ]
     },
     "execution_count": 18,
     "metadata": {},
     "output_type": "execute_result"
    }
   ],
   "source": [
    "# Running Loop Calculating Number of Males and Females Undergoing Treatement for MH Issues\n",
    "m_treatment = 0\n",
    "f_treatment = 0\n",
    "\n",
    "for i in range(len(data_2014_clean['Gender'])):\n",
    "    if data_2014_clean['Gender'][i] == 'Male' and data_2014_clean['treatment'][i] == 'Yes': \n",
    "        m_treatment = m_treatment + 1\n",
    "    \n",
    "    if data_2014_clean['Gender'][i] == 'Female' and data_2014_clean['treatment'][i] == 'Yes':\n",
    "        f_treatment = f_treatment + 1\n",
    "\n",
    "print(f' The Number of Males Undergoing Treatement for Mental Health in Tech are: {m_treatment} ')\n",
    "print(f' The Number of Males Undergoing Treatement for Mental Health in Tech are: {f_treatment} ')\n",
    "\n",
    "\n",
    "# Total Number of Men and Women \n",
    "data_2014_clean.Gender.value_counts()\n"
   ]
  },
  {
   "cell_type": "code",
   "execution_count": 19,
   "id": "4d8a9f1e",
   "metadata": {},
   "outputs": [
    {
     "name": "stdout",
     "output_type": "stream",
     "text": [
      " The % of Males Suffering Mental Health in Tech are: 45.35353535353535 \n",
      " The % of Females Suffering Mental Health in Tech are: 68.54838709677419 \n"
     ]
    }
   ],
   "source": [
    "males_in_tech = 990\n",
    "males_suff_mh = 449\n",
    "females_in_tech = 248\n",
    "females_suff_mh = 170\n",
    "# Percetages\n",
    "male_per = ( males_suff_mh/ males_in_tech)*100\n",
    "print(f' The % of Males Suffering Mental Health in Tech are: {male_per} ')\n",
    "female_per = ( females_suff_mh/ females_in_tech)*100\n",
    "print(f' The % of Females Suffering Mental Health in Tech are: {female_per} ')"
   ]
  },
  {
   "cell_type": "code",
   "execution_count": 20,
   "id": "d768f96e",
   "metadata": {},
   "outputs": [
    {
     "data": {
      "image/png": "[encoded data removed]",
      "text/plain": [
       "<Figure size 432x288 with 1 Axes>"
      ]
     },
     "metadata": {
      "needs_background": "light"
     },
     "output_type": "display_data"
    }
   ],
   "source": [
    "# Plotting Genders vs suffering from MH in Tech\n",
    "fig, ax = plt.subplots()\n",
    "bars = ax.bar(['Percetage of Males', 'Percetage of Females'], [male_per, female_per],color=\"cadetblue\",alpha=0.5)\n",
    "plt.title(\"Percentage of Males and Females Suffering MH in Tech\",fontweight=\"bold\")\n",
    "ax.bar_label(bars)\n",
    "\n",
    "plt.show()"
   ]
  },
  {
   "cell_type": "markdown",
   "id": "8ddf26da",
   "metadata": {},
   "source": [
    "### Analysis\n",
    "\n",
    "The Survey Data which was analysed provided the following conclusions: \n",
    "Gender vs Treatment demonstrated the number of males who received treatment almost tripled in comparison to females \n",
    "However when compared to the number of female and male employees in the tech industry the percentage plot demonstrates;\n",
    "Overall 68.5% of Females in the Tech industry suffer from Mental Health whereas only 45.35% of men do."
   ]
  },
  {
   "cell_type": "markdown",
   "id": "ab4ba0ae",
   "metadata": {},
   "source": [
    "### Evaluating the difference between mental health and physical health in the tech industry"
   ]
  },
  {
   "cell_type": "code",
   "execution_count": 21,
   "id": "03fca558",
   "metadata": {},
   "outputs": [
    {
     "data": {
      "text/html": [
       "<div>\n",
       "<style scoped>\n",
       "    .dataframe tbody tr th:only-of-type {\n",
       "        vertical-align: middle;\n",
       "    }\n",
       "\n",
       "    .dataframe tbody tr th {\n",
       "        vertical-align: top;\n",
       "    }\n",
       "\n",
       "    .dataframe thead th {\n",
       "        text-align: right;\n",
       "    }\n",
       "</style>\n",
       "<table border=\"1\" class=\"dataframe\">\n",
       "  <thead>\n",
       "    <tr style=\"text-align: right;\">\n",
       "      <th></th>\n",
       "      <th>mental_vs_physical</th>\n",
       "    </tr>\n",
       "  </thead>\n",
       "  <tbody>\n",
       "    <tr>\n",
       "      <th>Don't know</th>\n",
       "      <td>478</td>\n",
       "    </tr>\n",
       "    <tr>\n",
       "      <th>Yes</th>\n",
       "      <td>299</td>\n",
       "    </tr>\n",
       "    <tr>\n",
       "      <th>No</th>\n",
       "      <td>254</td>\n",
       "    </tr>\n",
       "  </tbody>\n",
       "</table>\n",
       "</div>"
      ],
      "text/plain": [
       "            mental_vs_physical\n",
       "Don't know                 478\n",
       "Yes                        299\n",
       "No                         254"
      ]
     },
     "execution_count": 21,
     "metadata": {},
     "output_type": "execute_result"
    }
   ],
   "source": [
    "#Creating a data frame for mental versus physical health in the tech industry. Is it treated the same?. \n",
    "mental_vs_physical=pd.DataFrame(data_tech[\"mental_vs_physical\"].value_counts())\n",
    "mental_vs_physical"
   ]
  },
  {
   "cell_type": "code",
   "execution_count": 22,
   "id": "976c5cf5",
   "metadata": {},
   "outputs": [
    {
     "data": {
      "image/png": "[encoded data removed]",
      "text/plain": [
       "<Figure size 720x360 with 1 Axes>"
      ]
     },
     "metadata": {
      "needs_background": "light"
     },
     "output_type": "display_data"
    }
   ],
   "source": [
    "# Filtering and renaming data\n",
    "mental_vs_physical = pd.DataFrame(data_tech[\"mental_vs_physical\"])\n",
    "\n",
    "# Creating a count plot \n",
    "plt.figure(figsize=(10,5))\n",
    "sns.set_style(\"ticks\")\n",
    "ax1 = sns.countplot(x=\"mental_vs_physical\", data=mental_vs_physical, color = \"lightsteelblue\")\n",
    "\n",
    "# Formatting chart axes, title, size\n",
    "plt.title('In the tech industry is mental and physical treated differently?', size = 16)\n",
    "plt.xlabel(\"Responses\", size = 12)\n",
    "plt.ylabel('Number of Participants', size = 12)\n",
    "\n",
    "# Formatting to show counts and percentages on the bars\n",
    "total = float(len(mental_vs_physical))\n",
    "for p in ax1.patches:\n",
    "    height = p.get_height()\n",
    "    ax1.text(p.get_x()+p.get_width()/2.,\n",
    "            height + 1,\n",
    "            '{:1.0f}'.format(height) + ' (' + '{:1.0f}'.format(100*(height/total)) + '%' + ')',\n",
    "            ha=\"center\", size=11, color = 'black') \n",
    "    \n",
    "\n",
    "plt.show()"
   ]
  },
  {
   "cell_type": "code",
   "execution_count": 23,
   "id": "37aaf0ce",
   "metadata": {},
   "outputs": [
    {
     "data": {
      "text/html": [
       "<div>\n",
       "<style scoped>\n",
       "    .dataframe tbody tr th:only-of-type {\n",
       "        vertical-align: middle;\n",
       "    }\n",
       "\n",
       "    .dataframe tbody tr th {\n",
       "        vertical-align: top;\n",
       "    }\n",
       "\n",
       "    .dataframe thead th {\n",
       "        text-align: right;\n",
       "    }\n",
       "</style>\n",
       "<table border=\"1\" class=\"dataframe\">\n",
       "  <thead>\n",
       "    <tr style=\"text-align: right;\">\n",
       "      <th></th>\n",
       "      <th>obs_consequence</th>\n",
       "    </tr>\n",
       "  </thead>\n",
       "  <tbody>\n",
       "    <tr>\n",
       "      <th>No</th>\n",
       "      <td>891</td>\n",
       "    </tr>\n",
       "    <tr>\n",
       "      <th>Yes</th>\n",
       "      <td>140</td>\n",
       "    </tr>\n",
       "  </tbody>\n",
       "</table>\n",
       "</div>"
      ],
      "text/plain": [
       "     obs_consequence\n",
       "No               891\n",
       "Yes              140"
      ]
     },
     "execution_count": 23,
     "metadata": {},
     "output_type": "execute_result"
    }
   ],
   "source": [
    "#Creating a data frame for observed negative consequences relating mental health conditions in the tech industry. \n",
    "obs_consequence=pd.DataFrame(data_tech[\"obs_consequence\"].value_counts())\n",
    "obs_consequence"
   ]
  },
  {
   "cell_type": "code",
   "execution_count": 24,
   "id": "4cccfe85",
   "metadata": {},
   "outputs": [
    {
     "data": {
      "image/png": "[encoded data removed]",
      "text/plain": [
       "<Figure size 720x360 with 1 Axes>"
      ]
     },
     "metadata": {},
     "output_type": "display_data"
    }
   ],
   "source": [
    "# Filtering and renaming data\n",
    "obs_consequence = pd.DataFrame(data_tech[\"obs_consequence\"])\n",
    "\n",
    "# Creating a count plot \n",
    "plt.figure(figsize=(10,5))\n",
    "sns.set_style(\"ticks\")\n",
    "ax1 = sns.countplot(x=\"obs_consequence\", data=obs_consequence, color = \"darksalmon\", alpha = 0.5)\n",
    "\n",
    "# Formatting chart axes, title, size\n",
    "plt.title(\"Proportion of consequences witnessed\", size = 16, fontweight=\"bold\")\n",
    "plt.xlabel(\"Responses\", size = 12)\n",
    "plt.ylabel(\"Number of Participants\", size = 12)\n",
    "\n",
    "# Formatting to show counts and percentages on the bars\n",
    "total = float(len(mental_vs_physical))\n",
    "for p in ax1.patches:\n",
    "    height = p.get_height()\n",
    "    ax1.text(p.get_x()+p.get_width()/2.,\n",
    "            height + 1,\n",
    "            '{:1.0f}'.format(height) + ' (' + '{:1.0f}'.format(100*(height/total)) + '%' + ')',\n",
    "            ha=\"center\", size=11, color = 'black') \n",
    "    \n",
    "\n",
    "plt.show()"
   ]
  },
  {
   "cell_type": "code",
   "execution_count": 25,
   "id": "a003ec91",
   "metadata": {},
   "outputs": [],
   "source": [
    "#### Do employees feel feel that the tech industry supports mental health and wellbeing?\n",
    "#Based on the data"
   ]
  },
  {
   "cell_type": "markdown",
   "id": "8ae04ba7",
   "metadata": {},
   "source": [
    "## Demographical Differences of Attitudes Towards Mental Health in the Tech Industry"
   ]
  },
  {
   "cell_type": "code",
   "execution_count": 26,
   "id": "499d3ca3",
   "metadata": {},
   "outputs": [
    {
     "data": {
      "image/png": "[encoded data removed]",
      "text/plain": [
       "<Figure size 1080x720 with 1 Axes>"
      ]
     },
     "metadata": {},
     "output_type": "display_data"
    }
   ],
   "source": [
    "company_df = data_2014_clean.groupby('tech_company') #i made sure to have only tech companies\n",
    "tech_company_df = company_df.get_group('Yes')\n",
    "#mental_health_df = tech_company_df[['Country', 'care_options']].value_counts()\n",
    "\n",
    "mental_health_df1=tech_company_df[tech_company_df[\"care_options\"]==\"Yes\"]\n",
    "\n",
    "mental_health_df2=mental_health_df1.groupby('Country').count() #it counts how many comapanies per country\n",
    "care_per_company=mental_health_df2[\"care_options\"] #dataframe for care options in each comapny per country\n",
    "\n",
    "care_per_company.plot.bar(0.5,color=\"slategrey\",figsize=(15,10))\n",
    "plt.xlabel(\"Country\",size=14, fontweight=\"bold\")\n",
    "plt.ylabel(\"Care Options in Tech Companies\",size=14, fontweight=\"bold\")\n",
    "plt.title(\"Number of Care Options in Tech Companies per Country\",size=18, fontweight=\"bold\")\n",
    "\n",
    "\n",
    "plt.show()\n"
   ]
  },
  {
   "cell_type": "markdown",
   "id": "19ff9e52",
   "metadata": {},
   "source": [
    "### Analysis\n",
    "\n",
    " \n",
    "The tech industry within the North American countries and Europe see to offer increased care options for their employees with The United States being the highest in the dataset, followed closely by the United Kingdom and Canada.\n",
    "\n",
    "The reasons this could be possible could be due to the fact that the above mentioned countries present a higher number of tech companies compared tot he rest of the world.\n",
    "Research have shown that countries that are more open with conversations about mental health have more facilities than those countries that don't.\n",
    "\n",
    "A possible bias could be caused by the fact that the survey might have been shared more within western countries than eastern, as the number of respondents from the US, Canada and the UK is higher than other countries."
   ]
  }
 ],
 "metadata": {
  "kernelspec": {
   "display_name": "Python 3 (ipykernel)",
   "language": "python",
   "name": "python3"
  },
  "language_info": {
   "codemirror_mode": {
    "name": "ipython",
    "version": 3
   },
   "file_extension": ".py",
   "mimetype": "text/x-python",
   "name": "python",
   "nbconvert_exporter": "python",
   "pygments_lexer": "ipython3",
   "version": "3.9.12"
  }
 },
 "nbformat": 4,
 "nbformat_minor": 5
}
