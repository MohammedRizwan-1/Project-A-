{
 "cells": [
  {
   "cell_type": "code",
   "execution_count": 128,
   "id": "64c4ae2a",
   "metadata": {},
   "outputs": [],
   "source": [
    "import numpy as np\n",
    "import pandas as pd\n",
    "import matplotlib.pyplot as plt\n",
    "import matplotlib as mpl\n",
    "import seaborn as sns\n",
    "import random\n",
    "import matplotlib.colors as mcolors\n",
    "from collections import Counter\n",
    "\n",
    "# Due to Darkmode of Jupyter Notebook\n",
    "plt.style.use('dark_background')\n",
    "mpl.rcParams[\"figure.facecolor\"] = '1c2021'\n",
    "mpl.rcParams[\"axes.facecolor\"] = '1c2021'\n",
    "COLOR = 'red'\n",
    "mpl.rcParams['text.color'] = COLOR"
   ]
  },
  {
   "cell_type": "code",
   "execution_count": null,
   "id": "b9ca68ab",
   "metadata": {},
   "outputs": [],
   "source": []
  },
  {
   "cell_type": "code",
   "execution_count": 129,
   "id": "854a0c22",
   "metadata": {},
   "outputs": [
    {
     "data": {
      "text/html": [
       "<div>\n",
       "<style scoped>\n",
       "    .dataframe tbody tr th:only-of-type {\n",
       "        vertical-align: middle;\n",
       "    }\n",
       "\n",
       "    .dataframe tbody tr th {\n",
       "        vertical-align: top;\n",
       "    }\n",
       "\n",
       "    .dataframe thead th {\n",
       "        text-align: right;\n",
       "    }\n",
       "</style>\n",
       "<table border=\"1\" class=\"dataframe\">\n",
       "  <thead>\n",
       "    <tr style=\"text-align: right;\">\n",
       "      <th></th>\n",
       "      <th>Timestamp</th>\n",
       "      <th>Age</th>\n",
       "      <th>Gender</th>\n",
       "      <th>Country</th>\n",
       "      <th>state</th>\n",
       "      <th>self_employed</th>\n",
       "      <th>family_history</th>\n",
       "      <th>treatment</th>\n",
       "      <th>work_interfere</th>\n",
       "      <th>no_employees</th>\n",
       "      <th>...</th>\n",
       "      <th>leave</th>\n",
       "      <th>mental_health_consequence</th>\n",
       "      <th>phys_health_consequence</th>\n",
       "      <th>coworkers</th>\n",
       "      <th>supervisor</th>\n",
       "      <th>mental_health_interview</th>\n",
       "      <th>phys_health_interview</th>\n",
       "      <th>mental_vs_physical</th>\n",
       "      <th>obs_consequence</th>\n",
       "      <th>comments</th>\n",
       "    </tr>\n",
       "  </thead>\n",
       "  <tbody>\n",
       "    <tr>\n",
       "      <th>0</th>\n",
       "      <td>2014-08-27 11:29:31</td>\n",
       "      <td>37</td>\n",
       "      <td>Female</td>\n",
       "      <td>United States</td>\n",
       "      <td>IL</td>\n",
       "      <td>NaN</td>\n",
       "      <td>No</td>\n",
       "      <td>Yes</td>\n",
       "      <td>Often</td>\n",
       "      <td>6-25</td>\n",
       "      <td>...</td>\n",
       "      <td>Somewhat easy</td>\n",
       "      <td>No</td>\n",
       "      <td>No</td>\n",
       "      <td>Some of them</td>\n",
       "      <td>Yes</td>\n",
       "      <td>No</td>\n",
       "      <td>Maybe</td>\n",
       "      <td>Yes</td>\n",
       "      <td>No</td>\n",
       "      <td>NaN</td>\n",
       "    </tr>\n",
       "    <tr>\n",
       "      <th>1</th>\n",
       "      <td>2014-08-27 11:29:37</td>\n",
       "      <td>44</td>\n",
       "      <td>M</td>\n",
       "      <td>United States</td>\n",
       "      <td>IN</td>\n",
       "      <td>NaN</td>\n",
       "      <td>No</td>\n",
       "      <td>No</td>\n",
       "      <td>Rarely</td>\n",
       "      <td>More than 1000</td>\n",
       "      <td>...</td>\n",
       "      <td>Don't know</td>\n",
       "      <td>Maybe</td>\n",
       "      <td>No</td>\n",
       "      <td>No</td>\n",
       "      <td>No</td>\n",
       "      <td>No</td>\n",
       "      <td>No</td>\n",
       "      <td>Don't know</td>\n",
       "      <td>No</td>\n",
       "      <td>NaN</td>\n",
       "    </tr>\n",
       "    <tr>\n",
       "      <th>2</th>\n",
       "      <td>2014-08-27 11:29:44</td>\n",
       "      <td>32</td>\n",
       "      <td>Male</td>\n",
       "      <td>Canada</td>\n",
       "      <td>NaN</td>\n",
       "      <td>NaN</td>\n",
       "      <td>No</td>\n",
       "      <td>No</td>\n",
       "      <td>Rarely</td>\n",
       "      <td>6-25</td>\n",
       "      <td>...</td>\n",
       "      <td>Somewhat difficult</td>\n",
       "      <td>No</td>\n",
       "      <td>No</td>\n",
       "      <td>Yes</td>\n",
       "      <td>Yes</td>\n",
       "      <td>Yes</td>\n",
       "      <td>Yes</td>\n",
       "      <td>No</td>\n",
       "      <td>No</td>\n",
       "      <td>NaN</td>\n",
       "    </tr>\n",
       "    <tr>\n",
       "      <th>3</th>\n",
       "      <td>2014-08-27 11:29:46</td>\n",
       "      <td>31</td>\n",
       "      <td>Male</td>\n",
       "      <td>United Kingdom</td>\n",
       "      <td>NaN</td>\n",
       "      <td>NaN</td>\n",
       "      <td>Yes</td>\n",
       "      <td>Yes</td>\n",
       "      <td>Often</td>\n",
       "      <td>26-100</td>\n",
       "      <td>...</td>\n",
       "      <td>Somewhat difficult</td>\n",
       "      <td>Yes</td>\n",
       "      <td>Yes</td>\n",
       "      <td>Some of them</td>\n",
       "      <td>No</td>\n",
       "      <td>Maybe</td>\n",
       "      <td>Maybe</td>\n",
       "      <td>No</td>\n",
       "      <td>Yes</td>\n",
       "      <td>NaN</td>\n",
       "    </tr>\n",
       "    <tr>\n",
       "      <th>4</th>\n",
       "      <td>2014-08-27 11:30:22</td>\n",
       "      <td>31</td>\n",
       "      <td>Male</td>\n",
       "      <td>United States</td>\n",
       "      <td>TX</td>\n",
       "      <td>NaN</td>\n",
       "      <td>No</td>\n",
       "      <td>No</td>\n",
       "      <td>Never</td>\n",
       "      <td>100-500</td>\n",
       "      <td>...</td>\n",
       "      <td>Don't know</td>\n",
       "      <td>No</td>\n",
       "      <td>No</td>\n",
       "      <td>Some of them</td>\n",
       "      <td>Yes</td>\n",
       "      <td>Yes</td>\n",
       "      <td>Yes</td>\n",
       "      <td>Don't know</td>\n",
       "      <td>No</td>\n",
       "      <td>NaN</td>\n",
       "    </tr>\n",
       "  </tbody>\n",
       "</table>\n",
       "<p>5 rows × 27 columns</p>\n",
       "</div>"
      ],
      "text/plain": [
       "             Timestamp  Age  Gender         Country state self_employed  \\\n",
       "0  2014-08-27 11:29:31   37  Female   United States    IL           NaN   \n",
       "1  2014-08-27 11:29:37   44       M   United States    IN           NaN   \n",
       "2  2014-08-27 11:29:44   32    Male          Canada   NaN           NaN   \n",
       "3  2014-08-27 11:29:46   31    Male  United Kingdom   NaN           NaN   \n",
       "4  2014-08-27 11:30:22   31    Male   United States    TX           NaN   \n",
       "\n",
       "  family_history treatment work_interfere    no_employees  ...  \\\n",
       "0             No       Yes          Often            6-25  ...   \n",
       "1             No        No         Rarely  More than 1000  ...   \n",
       "2             No        No         Rarely            6-25  ...   \n",
       "3            Yes       Yes          Often          26-100  ...   \n",
       "4             No        No          Never         100-500  ...   \n",
       "\n",
       "                leave mental_health_consequence phys_health_consequence  \\\n",
       "0       Somewhat easy                        No                      No   \n",
       "1          Don't know                     Maybe                      No   \n",
       "2  Somewhat difficult                        No                      No   \n",
       "3  Somewhat difficult                       Yes                     Yes   \n",
       "4          Don't know                        No                      No   \n",
       "\n",
       "      coworkers supervisor mental_health_interview phys_health_interview  \\\n",
       "0  Some of them        Yes                      No                 Maybe   \n",
       "1            No         No                      No                    No   \n",
       "2           Yes        Yes                     Yes                   Yes   \n",
       "3  Some of them         No                   Maybe                 Maybe   \n",
       "4  Some of them        Yes                     Yes                   Yes   \n",
       "\n",
       "  mental_vs_physical obs_consequence comments  \n",
       "0                Yes              No      NaN  \n",
       "1         Don't know              No      NaN  \n",
       "2                 No              No      NaN  \n",
       "3                 No             Yes      NaN  \n",
       "4         Don't know              No      NaN  \n",
       "\n",
       "[5 rows x 27 columns]"
      ]
     },
     "execution_count": 129,
     "metadata": {},
     "output_type": "execute_result"
    }
   ],
   "source": [
    "#Read csv\n",
    "data_2014 = pd.read_csv(\"1-Data/OSMI 2014 Mental Health in Tech Survey Results - OSMI Mental Health in Tech Survey 2019.csv\")\n",
    "data_2014.head()"
   ]
  },
  {
   "cell_type": "code",
   "execution_count": 130,
   "id": "656485c7",
   "metadata": {},
   "outputs": [],
   "source": [
    "#cleaning data\n",
    "#M =\n",
    "data_2014_clean=data_2014.iloc[:,[1,2,3,7,9,10,11,12,13,14,18]]"
   ]
  },
  {
   "cell_type": "code",
   "execution_count": 131,
   "id": "c7d3df9c",
   "metadata": {},
   "outputs": [
    {
     "data": {
      "text/html": [
       "<div>\n",
       "<style scoped>\n",
       "    .dataframe tbody tr th:only-of-type {\n",
       "        vertical-align: middle;\n",
       "    }\n",
       "\n",
       "    .dataframe tbody tr th {\n",
       "        vertical-align: top;\n",
       "    }\n",
       "\n",
       "    .dataframe thead th {\n",
       "        text-align: right;\n",
       "    }\n",
       "</style>\n",
       "<table border=\"1\" class=\"dataframe\">\n",
       "  <thead>\n",
       "    <tr style=\"text-align: right;\">\n",
       "      <th></th>\n",
       "      <th>Age</th>\n",
       "      <th>Gender</th>\n",
       "      <th>Country</th>\n",
       "      <th>treatment</th>\n",
       "      <th>no_employees</th>\n",
       "      <th>remote_work</th>\n",
       "      <th>tech_company</th>\n",
       "      <th>benefits</th>\n",
       "      <th>care_options</th>\n",
       "      <th>wellness_program</th>\n",
       "      <th>mental_health_consequence</th>\n",
       "    </tr>\n",
       "  </thead>\n",
       "  <tbody>\n",
       "    <tr>\n",
       "      <th>0</th>\n",
       "      <td>37</td>\n",
       "      <td>Female</td>\n",
       "      <td>United States</td>\n",
       "      <td>Yes</td>\n",
       "      <td>6-25</td>\n",
       "      <td>No</td>\n",
       "      <td>Yes</td>\n",
       "      <td>Yes</td>\n",
       "      <td>Not sure</td>\n",
       "      <td>No</td>\n",
       "      <td>No</td>\n",
       "    </tr>\n",
       "    <tr>\n",
       "      <th>1</th>\n",
       "      <td>44</td>\n",
       "      <td>M</td>\n",
       "      <td>United States</td>\n",
       "      <td>No</td>\n",
       "      <td>More than 1000</td>\n",
       "      <td>No</td>\n",
       "      <td>No</td>\n",
       "      <td>Don't know</td>\n",
       "      <td>No</td>\n",
       "      <td>Don't know</td>\n",
       "      <td>Maybe</td>\n",
       "    </tr>\n",
       "    <tr>\n",
       "      <th>2</th>\n",
       "      <td>32</td>\n",
       "      <td>Male</td>\n",
       "      <td>Canada</td>\n",
       "      <td>No</td>\n",
       "      <td>6-25</td>\n",
       "      <td>No</td>\n",
       "      <td>Yes</td>\n",
       "      <td>No</td>\n",
       "      <td>No</td>\n",
       "      <td>No</td>\n",
       "      <td>No</td>\n",
       "    </tr>\n",
       "    <tr>\n",
       "      <th>3</th>\n",
       "      <td>31</td>\n",
       "      <td>Male</td>\n",
       "      <td>United Kingdom</td>\n",
       "      <td>Yes</td>\n",
       "      <td>26-100</td>\n",
       "      <td>No</td>\n",
       "      <td>Yes</td>\n",
       "      <td>No</td>\n",
       "      <td>Yes</td>\n",
       "      <td>No</td>\n",
       "      <td>Yes</td>\n",
       "    </tr>\n",
       "    <tr>\n",
       "      <th>4</th>\n",
       "      <td>31</td>\n",
       "      <td>Male</td>\n",
       "      <td>United States</td>\n",
       "      <td>No</td>\n",
       "      <td>100-500</td>\n",
       "      <td>Yes</td>\n",
       "      <td>Yes</td>\n",
       "      <td>Yes</td>\n",
       "      <td>No</td>\n",
       "      <td>Don't know</td>\n",
       "      <td>No</td>\n",
       "    </tr>\n",
       "  </tbody>\n",
       "</table>\n",
       "</div>"
      ],
      "text/plain": [
       "   Age  Gender         Country treatment    no_employees remote_work  \\\n",
       "0   37  Female   United States       Yes            6-25          No   \n",
       "1   44       M   United States        No  More than 1000          No   \n",
       "2   32    Male          Canada        No            6-25          No   \n",
       "3   31    Male  United Kingdom       Yes          26-100          No   \n",
       "4   31    Male   United States        No         100-500         Yes   \n",
       "\n",
       "  tech_company    benefits care_options wellness_program  \\\n",
       "0          Yes         Yes     Not sure               No   \n",
       "1           No  Don't know           No       Don't know   \n",
       "2          Yes          No           No               No   \n",
       "3          Yes          No          Yes               No   \n",
       "4          Yes         Yes           No       Don't know   \n",
       "\n",
       "  mental_health_consequence  \n",
       "0                        No  \n",
       "1                     Maybe  \n",
       "2                        No  \n",
       "3                       Yes  \n",
       "4                        No  "
      ]
     },
     "execution_count": 131,
     "metadata": {},
     "output_type": "execute_result"
    }
   ],
   "source": [
    "data_2014_clean.head()"
   ]
  },
  {
   "cell_type": "markdown",
   "id": "130c292a",
   "metadata": {},
   "source": [
    "### Data Pre-Processing for Gender Analysis"
   ]
  },
  {
   "cell_type": "code",
   "execution_count": 132,
   "id": "2b13c520",
   "metadata": {},
   "outputs": [
    {
     "data": {
      "text/plain": [
       "49"
      ]
     },
     "execution_count": 132,
     "metadata": {},
     "output_type": "execute_result"
    }
   ],
   "source": [
    "# Number Unique Values in the Column\n",
    "data_2014_clean[\"Gender\"].nunique()"
   ]
  },
  {
   "cell_type": "code",
   "execution_count": 133,
   "id": "3f62cee7",
   "metadata": {},
   "outputs": [
    {
     "data": {
      "text/plain": [
       "array(['Female', 'M', 'Male', 'male', 'female', 'm', 'Male-ish', 'maile',\n",
       "       'Trans-female', 'Cis Female', 'F', 'something kinda male?',\n",
       "       'Cis Male', 'Woman', 'f', 'Mal', 'Male (CIS)', 'queer/she/they',\n",
       "       'non-binary', 'Femake', 'woman', 'Make', 'Nah', 'All', 'Enby',\n",
       "       'fluid', 'Genderqueer', 'Female ', 'Androgyne', 'Agender',\n",
       "       'cis-female/femme', 'Guy (-ish) ^_^', 'male leaning androgynous',\n",
       "       'Male ', 'Man', 'Trans woman', 'msle', 'Neuter', 'Female (trans)',\n",
       "       'queer', 'Female (cis)', 'Mail', 'cis male', 'A little about you',\n",
       "       'Malr', 'p', 'femail', 'Cis Man',\n",
       "       'ostensibly male, unsure what that really means'], dtype=object)"
      ]
     },
     "execution_count": 133,
     "metadata": {},
     "output_type": "execute_result"
    }
   ],
   "source": [
    "# Different Values in Column\n",
    "data_2014_clean[\"Gender\"].unique()"
   ]
  },
  {
   "cell_type": "code",
   "execution_count": 134,
   "id": "15c4b222",
   "metadata": {},
   "outputs": [
    {
     "data": {
      "text/plain": [
       "array(['Female', 'Male', 'Others'], dtype=object)"
      ]
     },
     "execution_count": 134,
     "metadata": {},
     "output_type": "execute_result"
    }
   ],
   "source": [
    "# Cleaning and Reducing Categories\n",
    "\n",
    "# Difine Dict with the key-value pair to remap.\n",
    "conv = {'male':'Male','M':'Male','m':'Male','Make':'Male','Man':'Male','Malr':'Male',\n",
    "        'Male (CIS)':'Male','Male ':'Male','Cis Male':'Male','Mail':'Male',\n",
    "        'Cis Male':'Male','cis male':'Male','msle':'Male','Cis Man':'Male',\n",
    "        'maile':'Male','Mal':'Male',\n",
    "        'female':'Female','F':'Female','f':'Female','Woman':'Female',\n",
    "        'Femake':'Female','Female ':'Female','femail':'Female', \n",
    "        'Female (cis)':'Female','woman':'Female','cis-female/femme':'Female',\n",
    "        'Cis Female':'Female',\n",
    "        'Female (trans)':'Others','Androgyne':'Others','queer':'Others','Neuter':'Others',\n",
    "        'Trans woman':'Others','fluid':'Others','non-binary':'Others','queer/she/they':'Others',\n",
    "        'Enby':'Others','Trans-female':'Female','Genderqueer':'Others',\n",
    "        'Agender':'Others','something kinda male?':'Others',\n",
    "        'Male-ish':'Others','ostensibly male, unsure what that really means':'Others',\n",
    "        'Nah':'Others','Guy (-ish) ^_^':'Others',\n",
    "        'male leaning androgynous':'Others','A little about you':'Others', 'p': 'Others', 'All': 'Others'}\n",
    "data_2014_clean=data_2014_clean.replace({\"Gender\": conv})\n",
    "\n",
    "data_2014_clean[\"Gender\"].unique()"
   ]
  },
  {
   "cell_type": "markdown",
   "id": "4472e0ab",
   "metadata": {},
   "source": [
    "### Data Analysis"
   ]
  },
  {
   "cell_type": "code",
   "execution_count": 135,
   "id": "5f0615bf",
   "metadata": {},
   "outputs": [
    {
     "data": {
      "text/plain": [
       "Male      990\n",
       "Female    248\n",
       "Others     21\n",
       "Name: Gender, dtype: int64"
      ]
     },
     "execution_count": 135,
     "metadata": {},
     "output_type": "execute_result"
    }
   ],
   "source": [
    "# Gender Value Counts\n",
    "data_2014_clean.Gender.value_counts()"
   ]
  },
  {
   "cell_type": "code",
   "execution_count": 136,
   "id": "1ae424e8",
   "metadata": {},
   "outputs": [
    {
     "data": {
      "image/png": "[encoded data removed]",
      "text/plain": [
       "<Figure size 720x360 with 1 Axes>"
      ]
     },
     "metadata": {},
     "output_type": "display_data"
    }
   ],
   "source": [
    "# Visualising Genders based on Data\n",
    "plt.figure(figsize=(10,5))\n",
    "sns.countplot(x=data_2014_clean['Gender'])\n",
    "plt.title('Count plot of Gender',fontsize=13)\n",
    "plt.show()"
   ]
  },
  {
   "cell_type": "markdown",
   "id": "589de7ae",
   "metadata": {},
   "source": [
    "##### Columns Currently in DF"
   ]
  },
  {
   "cell_type": "code",
   "execution_count": 137,
   "id": "c654d5bb",
   "metadata": {},
   "outputs": [
    {
     "data": {
      "text/plain": [
       "Index(['Age', 'Gender', 'Country', 'treatment', 'no_employees', 'remote_work',\n",
       "       'tech_company', 'benefits', 'care_options', 'wellness_program',\n",
       "       'mental_health_consequence'],\n",
       "      dtype='object')"
      ]
     },
     "execution_count": 137,
     "metadata": {},
     "output_type": "execute_result"
    }
   ],
   "source": [
    "data_2014_clean.columns"
   ]
  },
  {
   "cell_type": "markdown",
   "id": "1c7712af",
   "metadata": {},
   "source": [
    "##### Tech and Non-Tech Companies and Relationship towards Wellness Programs"
   ]
  },
  {
   "cell_type": "code",
   "execution_count": 138,
   "id": "3209fb45",
   "metadata": {},
   "outputs": [
    {
     "data": {
      "text/plain": [
       "Yes    1031\n",
       "No      228\n",
       "Name: tech_company, dtype: int64"
      ]
     },
     "execution_count": 138,
     "metadata": {},
     "output_type": "execute_result"
    }
   ],
   "source": [
    "data_2014_clean.tech_company.value_counts()"
   ]
  },
  {
   "cell_type": "code",
   "execution_count": 139,
   "id": "63daadcb",
   "metadata": {
    "scrolled": true
   },
   "outputs": [
    {
     "data": {
      "image/png": "[encoded data removed]",
      "text/plain": [
       "<Figure size 720x432 with 1 Axes>"
      ]
     },
     "metadata": {},
     "output_type": "display_data"
    }
   ],
   "source": [
    "# Visualising Non-Tech to Tech Companies\n",
    "plt.figure(figsize=(10,6))\n",
    "data_2014_clean.tech_company.value_counts().plot(kind='pie',autopct='%0.2f%%', title ='Type of Company',fontsize=15)\n",
    "\n",
    "plt.show()"
   ]
  },
  {
   "cell_type": "code",
   "execution_count": 140,
   "id": "ebf2488d",
   "metadata": {},
   "outputs": [
    {
     "data": {
      "text/plain": [
       "No            842\n",
       "Yes           229\n",
       "Don't know    188\n",
       "Name: wellness_program, dtype: int64"
      ]
     },
     "execution_count": 140,
     "metadata": {},
     "output_type": "execute_result"
    }
   ],
   "source": [
    "# Wellness Programs being offered\n",
    "data_2014_clean.wellness_program.value_counts()"
   ]
  },
  {
   "cell_type": "markdown",
   "id": "0cc7ba69",
   "metadata": {},
   "source": [
    "##### Company Type and if they offer Wellness program"
   ]
  },
  {
   "cell_type": "code",
   "execution_count": 162,
   "id": "76348245",
   "metadata": {},
   "outputs": [
    {
     "data": {
      "text/plain": [
       "Yes    1031\n",
       "No      228\n",
       "Name: tech_company, dtype: int64"
      ]
     },
     "execution_count": 162,
     "metadata": {},
     "output_type": "execute_result"
    }
   ],
   "source": [
    "data_2014_clean.tech_company.value_counts()"
   ]
  },
  {
   "cell_type": "code",
   "execution_count": 147,
   "id": "71898359",
   "metadata": {},
   "outputs": [
    {
     "data": {
      "image/png": "[encoded data removed]",
      "text/plain": [
       "<Figure size 864x432 with 1 Axes>"
      ]
     },
     "metadata": {},
     "output_type": "display_data"
    }
   ],
   "source": [
    "pd.crosstab(data_2014_clean['tech_company'], data_2014_clean['wellness_program']).plot(kind='bar',figsize=(12,6))\n",
    "plt.title('Company Type & If They Offer Wellness Programs',fontsize=18)\n",
    "plt.show()\n"
   ]
  },
  {
   "cell_type": "code",
   "execution_count": 198,
   "id": "1c887ef5",
   "metadata": {},
   "outputs": [
    {
     "name": "stdout",
     "output_type": "stream",
     "text": [
      " Total Number of Tech Companies: 1031 \n",
      " Total Number of Non- Tech Companies: 228 \n",
      " --------------------------------------------------------------- \n",
      " Tech Companies offering Wellness Programs: 162 \n",
      " Non-Tech Companies offering Wellness Programs are: 67 \n",
      " ---------------------------------------------------------------\n",
      " The % of Tech Compananies offering Wellness Programs: 15.71 \n",
      " The % of Non-Tech Compananies offering Wellness Programs: 29.39 \n",
      " --------------------------------------------------------------- \n"
     ]
    }
   ],
   "source": [
    "# Calculating Percentages to better justify Data and Plot\n",
    "tech_yes_yes = 0\n",
    "tech_no_yes = 0\n",
    "tech_companies = 1031\n",
    "non_tech_comp = 228\n",
    "\n",
    "for i in range(len(data_2014_clean['tech_company'])):\n",
    "    if data_2014_clean['tech_company'][i] == 'Yes' and data_2014_clean['wellness_program'][i] == 'Yes': \n",
    "        tech_yes_yes = tech_yes_yes + 1\n",
    "    \n",
    "    #if data_2014_clean['tech_company'][i] == 'Yes' and data_2014_clean['wellness_program'][i] == 'No': \n",
    "       # tech_yes_no = tech_yes_no + 1\n",
    "        \n",
    "    if data_2014_clean['tech_company'][i] == 'No' and data_2014_clean['wellness_program'][i] == 'Yes': \n",
    "        tech_no_yes = tech_no_yes + 1\n",
    "    \n",
    "    #if data_2014_clean['tech_company'][i] == 'No' and data_2014_clean['wellness_program'][i] == 'No': \n",
    "        #tech_no_no = tech_no_no + 1\n",
    "print(f' Total Number of Tech Companies: {tech_companies} ')\n",
    "print(f' Total Number of Non- Tech Companies: {non_tech_comp} ')\n",
    "print(f' --------------------------------------------------------------- ')        \n",
    "        \n",
    "print(f' Tech Companies offering Wellness Programs: {tech_yes_yes} ')\n",
    "#print(f' Then Number of Tech Companies not offering Wellness Programs are: {tech_yes_no} ')\n",
    "print(f' Non-Tech Companies offering Wellness Programs are: {tech_no_yes} ')\n",
    "#print(f' Then Number of Non-Tech Companies not offering Wellness Programs are: {tech_no_no} ')\n",
    "print(f' ---------------------------------------------------------------')\n",
    "\n",
    "# Percetages\n",
    "tech = ( tech_yes_yes/ tech_companies)*100\n",
    "print(f' The % of Tech Compananies offering Wellness Programs: {tech:.2f} ')\n",
    "non_tech = ( tech_no_yes/ non_tech_comp)*100\n",
    "print(f' The % of Non-Tech Compananies offering Wellness Programs: {non_tech:.2f} ')\n",
    "print(f' --------------------------------------------------------------- ')\n"
   ]
  },
  {
   "cell_type": "code",
   "execution_count": 199,
   "id": "dcbc48ca",
   "metadata": {
    "scrolled": true
   },
   "outputs": [
    {
     "data": {
      "image/png": "[encoded data removed]",
      "text/plain": [
       "<Figure size 432x288 with 1 Axes>"
      ]
     },
     "metadata": {},
     "output_type": "display_data"
    }
   ],
   "source": [
    "# Plotting Genders vs suffering from MH in Tech\n",
    "fig, ax = plt.subplots()\n",
    "bars = ax.bar(['Percetage of Tech', 'Percetage of Non-Tech'], [tech, non_tech])\n",
    "plt.title(\"% of Tech and Non-Tech Offering Wellness Compared to Number of Companies\")\n",
    "ax.bar_label(bars)\n",
    "plt.show()"
   ]
  },
  {
   "cell_type": "markdown",
   "id": "1e43b9f4",
   "metadata": {},
   "source": [
    "#### Analysing Gender: Spot Trends"
   ]
  },
  {
   "cell_type": "code",
   "execution_count": 142,
   "id": "d905f462",
   "metadata": {},
   "outputs": [
    {
     "data": {
      "image/png": "[encoded data removed]",
      "text/plain": [
       "<Figure size 864x432 with 1 Axes>"
      ]
     },
     "metadata": {},
     "output_type": "display_data"
    }
   ],
   "source": [
    "# Look at Gender and Treatement Columns and Plot \n",
    "pd.crosstab(data_2014_clean['treatment'],data_2014_clean['Gender']).plot(kind='bar',figsize=(12,6))\n",
    "plt.title('Gender vs Recieved Treatment',fontsize=18)\n",
    "plt.show()\n"
   ]
  },
  {
   "cell_type": "code",
   "execution_count": 143,
   "id": "24662202",
   "metadata": {},
   "outputs": [
    {
     "data": {
      "image/png": "[encoded data removed]",
      "text/plain": [
       "<Figure size 864x432 with 1 Axes>"
      ]
     },
     "metadata": {},
     "output_type": "display_data"
    }
   ],
   "source": [
    "# Gender Vs Mental Health Consequence\n",
    "pd.crosstab(data_2014_clean['mental_health_consequence'],data_2014_clean['Gender']).plot(kind='bar',figsize=(12,6))\n",
    "plt.title('Gender vs Mental Health Consequence',fontsize=18)\n",
    "plt.show()"
   ]
  },
  {
   "cell_type": "code",
   "execution_count": 169,
   "id": "a1d9b65c",
   "metadata": {},
   "outputs": [
    {
     "name": "stdout",
     "output_type": "stream",
     "text": [
      " The Number of Males Undergoing Treatement for Mental Health in Tech are: 449 \n",
      " The Number of Males Undergoing Treatement for Mental Health in Tech are: 170 \n"
     ]
    },
    {
     "data": {
      "text/plain": [
       "Male      990\n",
       "Female    248\n",
       "Others     21\n",
       "Name: Gender, dtype: int64"
      ]
     },
     "execution_count": 169,
     "metadata": {},
     "output_type": "execute_result"
    }
   ],
   "source": [
    "# Running Loop Calculating Number of Males and Females Undergoing Treatement for MH Issues\n",
    "m_treatment = 0\n",
    "f_treatment = 0\n",
    "\n",
    "for i in range(len(data_2014_clean['Gender'])):\n",
    "    if data_2014_clean['Gender'][i] == 'Male' and data_2014_clean['treatment'][i] == 'Yes': \n",
    "        m_treatment = m_treatment + 1\n",
    "    \n",
    "    if data_2014_clean['Gender'][i] == 'Female' and data_2014_clean['treatment'][i] == 'Yes':\n",
    "        f_treatment = f_treatment + 1\n",
    "\n",
    "print(f' The Number of Males Undergoing Treatement for Mental Health in Tech are: {m_treatment} ')\n",
    "print(f' The Number of Males Undergoing Treatement for Mental Health in Tech are: {f_treatment} ')\n",
    "\n",
    "\n",
    "# Total Number of Men and Women \n",
    "data_2014_clean.Gender.value_counts()\n"
   ]
  },
  {
   "cell_type": "code",
   "execution_count": 170,
   "id": "b380030b",
   "metadata": {},
   "outputs": [
    {
     "name": "stdout",
     "output_type": "stream",
     "text": [
      " The % of Males Suffering Mental Health in Tech are: 45.35353535353535 \n",
      " The % of Females Suffering Mental Health in Tech are: 68.54838709677419 \n"
     ]
    }
   ],
   "source": [
    "males_in_tech = 990\n",
    "males_suff_mh = 449\n",
    "females_in_tech = 248\n",
    "females_suff_mh = 170\n",
    "# Percetages\n",
    "male_per = ( males_suff_mh/ males_in_tech)*100\n",
    "print(f' The % of Males Suffering Mental Health in Tech are: {male_per} ')\n",
    "female_per = ( females_suff_mh/ females_in_tech)*100\n",
    "print(f' The % of Females Suffering Mental Health in Tech are: {female_per} ')\n",
    "\n",
    "\n"
   ]
  },
  {
   "cell_type": "code",
   "execution_count": 146,
   "id": "fc433d90",
   "metadata": {},
   "outputs": [
    {
     "data": {
      "image/png": "[encoded data removed]",
      "text/plain": [
       "<Figure size 432x288 with 1 Axes>"
      ]
     },
     "metadata": {},
     "output_type": "display_data"
    }
   ],
   "source": [
    "# Plotting Genders vs suffering from MH in Tech\n",
    "fig, ax = plt.subplots()\n",
    "bars = ax.bar(['Percetage of Males', 'Percetage of Females'], [male_per, female_per])\n",
    "plt.title(\"Percentage of Males and Females Suffering MH in Tech\")\n",
    "ax.bar_label(bars)\n",
    "plt.show()"
   ]
  }
 ],
 "metadata": {
  "kernelspec": {
   "display_name": "Python 3 (ipykernel)",
   "language": "python",
   "name": "python3"
  },
  "language_info": {
   "codemirror_mode": {
    "name": "ipython",
    "version": 3
   },
   "file_extension": ".py",
   "mimetype": "text/x-python",
   "name": "python",
   "nbconvert_exporter": "python",
   "pygments_lexer": "ipython3",
   "version": "3.9.12"
  }
 },
 "nbformat": 4,
 "nbformat_minor": 5
}
