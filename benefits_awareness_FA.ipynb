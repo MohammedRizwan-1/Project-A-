{
 "cells": [
  {
   "cell_type": "code",
   "execution_count": 2,
   "id": "d9d596a2",
   "metadata": {},
   "outputs": [],
   "source": [
    "import numpy as np\n",
    "import pandas as pd\n",
    "import matplotlib.pyplot as plt"
   ]
  },
  {
   "cell_type": "code",
   "execution_count": 3,
   "id": "f3bc1f3d",
   "metadata": {},
   "outputs": [
    {
     "name": "stdout",
     "output_type": "stream",
     "text": [
      "<class 'pandas.core.frame.DataFrame'>\n",
      "RangeIndex: 1259 entries, 0 to 1258\n",
      "Data columns (total 27 columns):\n",
      " #   Column                     Non-Null Count  Dtype \n",
      "---  ------                     --------------  ----- \n",
      " 0   Timestamp                  1259 non-null   object\n",
      " 1   Age                        1259 non-null   int64 \n",
      " 2   Gender                     1259 non-null   object\n",
      " 3   Country                    1259 non-null   object\n",
      " 4   state                      744 non-null    object\n",
      " 5   self_employed              1241 non-null   object\n",
      " 6   family_history             1259 non-null   object\n",
      " 7   treatment                  1259 non-null   object\n",
      " 8   work_interfere             995 non-null    object\n",
      " 9   no_employees               1259 non-null   object\n",
      " 10  remote_work                1259 non-null   object\n",
      " 11  tech_company               1259 non-null   object\n",
      " 12  benefits                   1259 non-null   object\n",
      " 13  care_options               1259 non-null   object\n",
      " 14  wellness_program           1259 non-null   object\n",
      " 15  seek_help                  1259 non-null   object\n",
      " 16  anonymity                  1259 non-null   object\n",
      " 17  leave                      1259 non-null   object\n",
      " 18  mental_health_consequence  1259 non-null   object\n",
      " 19  phys_health_consequence    1259 non-null   object\n",
      " 20  coworkers                  1259 non-null   object\n",
      " 21  supervisor                 1259 non-null   object\n",
      " 22  mental_health_interview    1259 non-null   object\n",
      " 23  phys_health_interview      1259 non-null   object\n",
      " 24  mental_vs_physical         1259 non-null   object\n",
      " 25  obs_consequence            1259 non-null   object\n",
      " 26  comments                   164 non-null    object\n",
      "dtypes: int64(1), object(26)\n",
      "memory usage: 265.7+ KB\n"
     ]
    }
   ],
   "source": [
    "#Read csv\n",
    "data_2019 = pd.read_csv(\"1-Data/OSMI 2014 Mental Health in Tech Survey Results - OSMI Mental Health in Tech Survey 2019.csv\")\n",
    "#data_2019 = pd.read_csv(\"1-Data/OSMI 2019 Mental Health in Tech Survey Results - OSMI Mental Health in Tech Survey 2019.csv\")\n",
    "data_2019.head()\n",
    "data_2019.info()"
   ]
  },
  {
   "cell_type": "code",
   "execution_count": 4,
   "id": "88c214cf",
   "metadata": {},
   "outputs": [
    {
     "name": "stdout",
     "output_type": "stream",
     "text": [
      "The total number of participants in the 2019 survey was 1259\n"
     ]
    }
   ],
   "source": [
    "#Obtain total number of participants in survey\n",
    "total_participants=data_2019.shape[0]\n",
    "print(\"The total number of participants in the 2019 survey was \"+str(total_participants))"
   ]
  },
  {
   "cell_type": "code",
   "execution_count": 5,
   "id": "7791569c",
   "metadata": {},
   "outputs": [
    {
     "data": {
      "text/plain": [
       "0"
      ]
     },
     "metadata": {},
     "output_type": "display_data"
    },
    {
     "data": {
      "text/plain": [
       "0"
      ]
     },
     "metadata": {},
     "output_type": "display_data"
    }
   ],
   "source": [
    "#Checking for any nill values\n",
    "display(data_2019[\"benefits\"].isnull().sum())\n",
    "display(data_2019[\"care_options\"].isnull().sum())"
   ]
  },
  {
   "cell_type": "code",
   "execution_count": 6,
   "id": "70d6f92d",
   "metadata": {},
   "outputs": [
    {
     "data": {
      "text/html": [
       "<div>\n",
       "<style scoped>\n",
       "    .dataframe tbody tr th:only-of-type {\n",
       "        vertical-align: middle;\n",
       "    }\n",
       "\n",
       "    .dataframe tbody tr th {\n",
       "        vertical-align: top;\n",
       "    }\n",
       "\n",
       "    .dataframe thead th {\n",
       "        text-align: right;\n",
       "    }\n",
       "</style>\n",
       "<table border=\"1\" class=\"dataframe\">\n",
       "  <thead>\n",
       "    <tr style=\"text-align: right;\">\n",
       "      <th></th>\n",
       "      <th>Response</th>\n",
       "      <th>No of Response</th>\n",
       "      <th>Total Participants</th>\n",
       "      <th>%</th>\n",
       "    </tr>\n",
       "  </thead>\n",
       "  <tbody>\n",
       "    <tr>\n",
       "      <th>0</th>\n",
       "      <td>Yes</td>\n",
       "      <td>477</td>\n",
       "      <td>1259</td>\n",
       "      <td>38.0</td>\n",
       "    </tr>\n",
       "    <tr>\n",
       "      <th>1</th>\n",
       "      <td>Don't know</td>\n",
       "      <td>408</td>\n",
       "      <td>1259</td>\n",
       "      <td>32.0</td>\n",
       "    </tr>\n",
       "    <tr>\n",
       "      <th>2</th>\n",
       "      <td>No</td>\n",
       "      <td>374</td>\n",
       "      <td>1259</td>\n",
       "      <td>30.0</td>\n",
       "    </tr>\n",
       "  </tbody>\n",
       "</table>\n",
       "</div>"
      ],
      "text/plain": [
       "     Response  No of Response  Total Participants     %\n",
       "0         Yes             477                1259  38.0\n",
       "1  Don't know             408                1259  32.0\n",
       "2          No             374                1259  30.0"
      ]
     },
     "metadata": {},
     "output_type": "display_data"
    },
    {
     "data": {
      "text/plain": [
       "Text(0, 0.5, '%')"
      ]
     },
     "execution_count": 6,
     "metadata": {},
     "output_type": "execute_result"
    },
    {
     "data": {
      "image/png": "[encoded data removed]",
      "text/plain": [
       "<Figure size 432x288 with 1 Axes>"
      ]
     },
     "metadata": {
      "needs_background": "light"
     },
     "output_type": "display_data"
    }
   ],
   "source": [
    "#Creating data frame for benefits offered\n",
    "benefits_awareness=pd.DataFrame(data_2019['benefits'].value_counts())\n",
    "benefits_awareness[\"Total Participants\"]=total_participants\n",
    "benefits_awareness.reset_index(inplace=True)\n",
    "benefits_awareness=benefits_awareness.rename(columns={\"index\":\"Response\",\"benefits\":\"No of Response\"})\n",
    "benefits_awareness[\"%\"]=round((benefits_awareness[\"No of Response\"]/benefits_awareness[\"Total Participants\"])*100,0)\n",
    "display(benefits_awareness)\n",
    "\n",
    "#Creating bar chart to display the results\n",
    "plt.bar(benefits_awareness[\"Response\"],benefits_awareness[\"%\"], color='r', alpha=0.5, align=\"center\")\n",
    "#plt.xticks(rotation=\"vertical\")\n",
    "plt.title(\"Do Employers Provide Mental Health Benefits?\")\n",
    "plt.xlabel(\"Response\",fontweight = \"bold\")\n",
    "plt.ylabel(\"%\",fontweight = \"bold\")"
   ]
  },
  {
   "cell_type": "code",
   "execution_count": 7,
   "id": "ea1bb0ae",
   "metadata": {},
   "outputs": [
    {
     "data": {
      "text/html": [
       "<div>\n",
       "<style scoped>\n",
       "    .dataframe tbody tr th:only-of-type {\n",
       "        vertical-align: middle;\n",
       "    }\n",
       "\n",
       "    .dataframe tbody tr th {\n",
       "        vertical-align: top;\n",
       "    }\n",
       "\n",
       "    .dataframe thead th {\n",
       "        text-align: right;\n",
       "    }\n",
       "</style>\n",
       "<table border=\"1\" class=\"dataframe\">\n",
       "  <thead>\n",
       "    <tr style=\"text-align: right;\">\n",
       "      <th></th>\n",
       "      <th>Response</th>\n",
       "      <th>No of Response</th>\n",
       "      <th>Total Participants</th>\n",
       "      <th>%</th>\n",
       "    </tr>\n",
       "  </thead>\n",
       "  <tbody>\n",
       "    <tr>\n",
       "      <th>0</th>\n",
       "      <td>No</td>\n",
       "      <td>501</td>\n",
       "      <td>1259</td>\n",
       "      <td>40.0</td>\n",
       "    </tr>\n",
       "    <tr>\n",
       "      <th>1</th>\n",
       "      <td>Yes</td>\n",
       "      <td>444</td>\n",
       "      <td>1259</td>\n",
       "      <td>35.0</td>\n",
       "    </tr>\n",
       "    <tr>\n",
       "      <th>2</th>\n",
       "      <td>Not sure</td>\n",
       "      <td>314</td>\n",
       "      <td>1259</td>\n",
       "      <td>25.0</td>\n",
       "    </tr>\n",
       "  </tbody>\n",
       "</table>\n",
       "</div>"
      ],
      "text/plain": [
       "   Response  No of Response  Total Participants     %\n",
       "0        No             501                1259  40.0\n",
       "1       Yes             444                1259  35.0\n",
       "2  Not sure             314                1259  25.0"
      ]
     },
     "metadata": {},
     "output_type": "display_data"
    },
    {
     "data": {
      "text/plain": [
       "Text(0, 0.5, '%')"
      ]
     },
     "execution_count": 7,
     "metadata": {},
     "output_type": "execute_result"
    },
    {
     "data": {
      "image/png": "[encoded data removed]",
      "text/plain": [
       "<Figure size 432x288 with 1 Axes>"
      ]
     },
     "metadata": {
      "needs_background": "light"
     },
     "output_type": "display_data"
    }
   ],
   "source": [
    "care_options=pd.DataFrame(data_2019[\"care_options\"].value_counts())\n",
    "care_options[\"Total Participants\"]=total_participants\n",
    "care_options.reset_index(inplace=True)\n",
    "care_options=care_options.rename(columns={\"index\":\"Response\",\"care_options\":\"No of Response\"})\n",
    "care_options[\"%\"]=round((care_options[\"No of Response\"]/care_options[\"Total Participants\"])*100,0)\n",
    "display(care_options)\n",
    "\n",
    "#Creating bar chart to display the results\n",
    "plt.bar(care_options[\"Response\"],care_options[\"%\"], color='g', alpha=0.5, align=\"center\")\n",
    "#plt.xticks(rotation=\"vertical\")\n",
    "plt.title(\"Do you know the options for mental health care your employer provides?\")\n",
    "plt.xlabel(\"Response\",fontweight = \"bold\")\n",
    "plt.ylabel(\"%\",fontweight = \"bold\")"
   ]
  },
  {
   "cell_type": "code",
   "execution_count": 30,
   "id": "7058a2bf",
   "metadata": {},
   "outputs": [
    {
     "data": {
      "text/html": [
       "<div>\n",
       "<style scoped>\n",
       "    .dataframe tbody tr th:only-of-type {\n",
       "        vertical-align: middle;\n",
       "    }\n",
       "\n",
       "    .dataframe tbody tr th {\n",
       "        vertical-align: top;\n",
       "    }\n",
       "\n",
       "    .dataframe thead th {\n",
       "        text-align: right;\n",
       "    }\n",
       "</style>\n",
       "<table border=\"1\" class=\"dataframe\">\n",
       "  <thead>\n",
       "    <tr style=\"text-align: right;\">\n",
       "      <th></th>\n",
       "      <th></th>\n",
       "      <th>0</th>\n",
       "    </tr>\n",
       "    <tr>\n",
       "      <th>tech_company</th>\n",
       "      <th>benefits</th>\n",
       "      <th></th>\n",
       "    </tr>\n",
       "  </thead>\n",
       "  <tbody>\n",
       "    <tr>\n",
       "      <th rowspan=\"3\" valign=\"top\">No</th>\n",
       "      <th>Don't know</th>\n",
       "      <td>73</td>\n",
       "    </tr>\n",
       "    <tr>\n",
       "      <th>No</th>\n",
       "      <td>51</td>\n",
       "    </tr>\n",
       "    <tr>\n",
       "      <th>Yes</th>\n",
       "      <td>104</td>\n",
       "    </tr>\n",
       "    <tr>\n",
       "      <th rowspan=\"3\" valign=\"top\">Yes</th>\n",
       "      <th>Don't know</th>\n",
       "      <td>335</td>\n",
       "    </tr>\n",
       "    <tr>\n",
       "      <th>No</th>\n",
       "      <td>323</td>\n",
       "    </tr>\n",
       "    <tr>\n",
       "      <th>Yes</th>\n",
       "      <td>373</td>\n",
       "    </tr>\n",
       "  </tbody>\n",
       "</table>\n",
       "</div>"
      ],
      "text/plain": [
       "                           0\n",
       "tech_company benefits       \n",
       "No           Don't know   73\n",
       "             No           51\n",
       "             Yes         104\n",
       "Yes          Don't know  335\n",
       "             No          323\n",
       "             Yes         373"
      ]
     },
     "execution_count": 30,
     "metadata": {},
     "output_type": "execute_result"
    }
   ],
   "source": [
    "#tech_benefits=pd.DataFrame(\n",
    "tech=pd.DataFrame(data_2019.groupby([\"tech_company\",\"benefits\"]).size())\n",
    "#tech.reset_index(inplace=True)\n",
    "                           \n",
    "#tech_benefits=tech_benefits.iloc[:,[1,2,3,7,9,10,11,12,13,14,18]]\n",
    "                           \n",
    "tech"
   ]
  }
 ],
 "metadata": {
  "kernelspec": {
   "display_name": "Python 3 (ipykernel)",
   "language": "python",
   "name": "python3"
  },
  "language_info": {
   "codemirror_mode": {
    "name": "ipython",
    "version": 3
   },
   "file_extension": ".py",
   "mimetype": "text/x-python",
   "name": "python",
   "nbconvert_exporter": "python",
   "pygments_lexer": "ipython3",
   "version": "3.9.12"
  }
 },
 "nbformat": 4,
 "nbformat_minor": 5
}
