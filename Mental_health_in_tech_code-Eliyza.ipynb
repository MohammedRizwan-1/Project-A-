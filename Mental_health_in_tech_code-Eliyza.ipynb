{
 "cells": [
  {
   "cell_type": "code",
   "execution_count": 312,
   "id": "64c4ae2a",
   "metadata": {},
   "outputs": [],
   "source": [
    "import numpy as np\n",
    "import pandas as pd\n",
    "import matplotlib.pyplot as plt\n",
    "import seaborn as sns\n",
    "from collections import Counter"
   ]
  },
  {
   "cell_type": "code",
   "execution_count": 313,
   "id": "854a0c22",
   "metadata": {},
   "outputs": [
    {
     "data": {
      "text/html": [
       "<div>\n",
       "<style scoped>\n",
       "    .dataframe tbody tr th:only-of-type {\n",
       "        vertical-align: middle;\n",
       "    }\n",
       "\n",
       "    .dataframe tbody tr th {\n",
       "        vertical-align: top;\n",
       "    }\n",
       "\n",
       "    .dataframe thead th {\n",
       "        text-align: right;\n",
       "    }\n",
       "</style>\n",
       "<table border=\"1\" class=\"dataframe\">\n",
       "  <thead>\n",
       "    <tr style=\"text-align: right;\">\n",
       "      <th></th>\n",
       "      <th>Timestamp</th>\n",
       "      <th>Age</th>\n",
       "      <th>Gender</th>\n",
       "      <th>Country</th>\n",
       "      <th>state</th>\n",
       "      <th>self_employed</th>\n",
       "      <th>family_history</th>\n",
       "      <th>treatment</th>\n",
       "      <th>work_interfere</th>\n",
       "      <th>no_employees</th>\n",
       "      <th>...</th>\n",
       "      <th>leave</th>\n",
       "      <th>mental_health_consequence</th>\n",
       "      <th>phys_health_consequence</th>\n",
       "      <th>coworkers</th>\n",
       "      <th>supervisor</th>\n",
       "      <th>mental_health_interview</th>\n",
       "      <th>phys_health_interview</th>\n",
       "      <th>mental_vs_physical</th>\n",
       "      <th>obs_consequence</th>\n",
       "      <th>comments</th>\n",
       "    </tr>\n",
       "  </thead>\n",
       "  <tbody>\n",
       "    <tr>\n",
       "      <th>0</th>\n",
       "      <td>2014-08-27 11:29:31</td>\n",
       "      <td>37</td>\n",
       "      <td>Female</td>\n",
       "      <td>United States</td>\n",
       "      <td>IL</td>\n",
       "      <td>NaN</td>\n",
       "      <td>No</td>\n",
       "      <td>Yes</td>\n",
       "      <td>Often</td>\n",
       "      <td>6-25</td>\n",
       "      <td>...</td>\n",
       "      <td>Somewhat easy</td>\n",
       "      <td>No</td>\n",
       "      <td>No</td>\n",
       "      <td>Some of them</td>\n",
       "      <td>Yes</td>\n",
       "      <td>No</td>\n",
       "      <td>Maybe</td>\n",
       "      <td>Yes</td>\n",
       "      <td>No</td>\n",
       "      <td>NaN</td>\n",
       "    </tr>\n",
       "    <tr>\n",
       "      <th>1</th>\n",
       "      <td>2014-08-27 11:29:37</td>\n",
       "      <td>44</td>\n",
       "      <td>M</td>\n",
       "      <td>United States</td>\n",
       "      <td>IN</td>\n",
       "      <td>NaN</td>\n",
       "      <td>No</td>\n",
       "      <td>No</td>\n",
       "      <td>Rarely</td>\n",
       "      <td>More than 1000</td>\n",
       "      <td>...</td>\n",
       "      <td>Don't know</td>\n",
       "      <td>Maybe</td>\n",
       "      <td>No</td>\n",
       "      <td>No</td>\n",
       "      <td>No</td>\n",
       "      <td>No</td>\n",
       "      <td>No</td>\n",
       "      <td>Don't know</td>\n",
       "      <td>No</td>\n",
       "      <td>NaN</td>\n",
       "    </tr>\n",
       "    <tr>\n",
       "      <th>2</th>\n",
       "      <td>2014-08-27 11:29:44</td>\n",
       "      <td>32</td>\n",
       "      <td>Male</td>\n",
       "      <td>Canada</td>\n",
       "      <td>NaN</td>\n",
       "      <td>NaN</td>\n",
       "      <td>No</td>\n",
       "      <td>No</td>\n",
       "      <td>Rarely</td>\n",
       "      <td>6-25</td>\n",
       "      <td>...</td>\n",
       "      <td>Somewhat difficult</td>\n",
       "      <td>No</td>\n",
       "      <td>No</td>\n",
       "      <td>Yes</td>\n",
       "      <td>Yes</td>\n",
       "      <td>Yes</td>\n",
       "      <td>Yes</td>\n",
       "      <td>No</td>\n",
       "      <td>No</td>\n",
       "      <td>NaN</td>\n",
       "    </tr>\n",
       "    <tr>\n",
       "      <th>3</th>\n",
       "      <td>2014-08-27 11:29:46</td>\n",
       "      <td>31</td>\n",
       "      <td>Male</td>\n",
       "      <td>United Kingdom</td>\n",
       "      <td>NaN</td>\n",
       "      <td>NaN</td>\n",
       "      <td>Yes</td>\n",
       "      <td>Yes</td>\n",
       "      <td>Often</td>\n",
       "      <td>26-100</td>\n",
       "      <td>...</td>\n",
       "      <td>Somewhat difficult</td>\n",
       "      <td>Yes</td>\n",
       "      <td>Yes</td>\n",
       "      <td>Some of them</td>\n",
       "      <td>No</td>\n",
       "      <td>Maybe</td>\n",
       "      <td>Maybe</td>\n",
       "      <td>No</td>\n",
       "      <td>Yes</td>\n",
       "      <td>NaN</td>\n",
       "    </tr>\n",
       "    <tr>\n",
       "      <th>4</th>\n",
       "      <td>2014-08-27 11:30:22</td>\n",
       "      <td>31</td>\n",
       "      <td>Male</td>\n",
       "      <td>United States</td>\n",
       "      <td>TX</td>\n",
       "      <td>NaN</td>\n",
       "      <td>No</td>\n",
       "      <td>No</td>\n",
       "      <td>Never</td>\n",
       "      <td>100-500</td>\n",
       "      <td>...</td>\n",
       "      <td>Don't know</td>\n",
       "      <td>No</td>\n",
       "      <td>No</td>\n",
       "      <td>Some of them</td>\n",
       "      <td>Yes</td>\n",
       "      <td>Yes</td>\n",
       "      <td>Yes</td>\n",
       "      <td>Don't know</td>\n",
       "      <td>No</td>\n",
       "      <td>NaN</td>\n",
       "    </tr>\n",
       "  </tbody>\n",
       "</table>\n",
       "<p>5 rows × 27 columns</p>\n",
       "</div>"
      ],
      "text/plain": [
       "             Timestamp  Age  Gender         Country state self_employed  \\\n",
       "0  2014-08-27 11:29:31   37  Female   United States    IL           NaN   \n",
       "1  2014-08-27 11:29:37   44       M   United States    IN           NaN   \n",
       "2  2014-08-27 11:29:44   32    Male          Canada   NaN           NaN   \n",
       "3  2014-08-27 11:29:46   31    Male  United Kingdom   NaN           NaN   \n",
       "4  2014-08-27 11:30:22   31    Male   United States    TX           NaN   \n",
       "\n",
       "  family_history treatment work_interfere    no_employees  ...  \\\n",
       "0             No       Yes          Often            6-25  ...   \n",
       "1             No        No         Rarely  More than 1000  ...   \n",
       "2             No        No         Rarely            6-25  ...   \n",
       "3            Yes       Yes          Often          26-100  ...   \n",
       "4             No        No          Never         100-500  ...   \n",
       "\n",
       "                leave mental_health_consequence phys_health_consequence  \\\n",
       "0       Somewhat easy                        No                      No   \n",
       "1          Don't know                     Maybe                      No   \n",
       "2  Somewhat difficult                        No                      No   \n",
       "3  Somewhat difficult                       Yes                     Yes   \n",
       "4          Don't know                        No                      No   \n",
       "\n",
       "      coworkers supervisor mental_health_interview phys_health_interview  \\\n",
       "0  Some of them        Yes                      No                 Maybe   \n",
       "1            No         No                      No                    No   \n",
       "2           Yes        Yes                     Yes                   Yes   \n",
       "3  Some of them         No                   Maybe                 Maybe   \n",
       "4  Some of them        Yes                     Yes                   Yes   \n",
       "\n",
       "  mental_vs_physical obs_consequence comments  \n",
       "0                Yes              No      NaN  \n",
       "1         Don't know              No      NaN  \n",
       "2                 No              No      NaN  \n",
       "3                 No             Yes      NaN  \n",
       "4         Don't know              No      NaN  \n",
       "\n",
       "[5 rows x 27 columns]"
      ]
     },
     "execution_count": 313,
     "metadata": {},
     "output_type": "execute_result"
    }
   ],
   "source": [
    "#Read csv and show a preview of the data.\n",
    "data_2014 = pd.read_csv(\"1-Data/OSMI 2014 Mental Health in Tech Survey Results - OSMI Mental Health in Tech Survey 2019.csv\")\n",
    "data_2014.head()"
   ]
  },
  {
   "cell_type": "code",
   "execution_count": 314,
   "id": "873e2610",
   "metadata": {},
   "outputs": [
    {
     "name": "stdout",
     "output_type": "stream",
     "text": [
      "Total Participants in 2014:  1259\n"
     ]
    }
   ],
   "source": [
    "# Count the number of participants as we will need this to convert percentages\n",
    "total_participants = data_2014.shape[0]\n",
    "print(\"Total Participants in 2014: \", total_participants)"
   ]
  },
  {
   "cell_type": "code",
   "execution_count": 315,
   "id": "a0d11f00",
   "metadata": {},
   "outputs": [
    {
     "data": {
      "text/html": [
       "<div>\n",
       "<style scoped>\n",
       "    .dataframe tbody tr th:only-of-type {\n",
       "        vertical-align: middle;\n",
       "    }\n",
       "\n",
       "    .dataframe tbody tr th {\n",
       "        vertical-align: top;\n",
       "    }\n",
       "\n",
       "    .dataframe thead th {\n",
       "        text-align: right;\n",
       "    }\n",
       "</style>\n",
       "<table border=\"1\" class=\"dataframe\">\n",
       "  <thead>\n",
       "    <tr style=\"text-align: right;\">\n",
       "      <th></th>\n",
       "      <th>tech_company</th>\n",
       "    </tr>\n",
       "  </thead>\n",
       "  <tbody>\n",
       "    <tr>\n",
       "      <th>Yes</th>\n",
       "      <td>1031</td>\n",
       "    </tr>\n",
       "    <tr>\n",
       "      <th>No</th>\n",
       "      <td>228</td>\n",
       "    </tr>\n",
       "  </tbody>\n",
       "</table>\n",
       "</div>"
      ],
      "text/plain": [
       "     tech_company\n",
       "Yes          1031\n",
       "No            228"
      ]
     },
     "execution_count": 315,
     "metadata": {},
     "output_type": "execute_result"
    }
   ],
   "source": [
    "# Count how many tech versus non-tech companies participated in the survey\n",
    "tech_company=pd.DataFrame(data_2014['tech_company'].value_counts())\n",
    "tech_company"
   ]
  },
  {
   "cell_type": "code",
   "execution_count": 316,
   "id": "8c7a4796",
   "metadata": {},
   "outputs": [],
   "source": [
    "###### From the survey participants we can see that the data is not representative as there were more participants for tech companies than non-tech companies. We have therfore converted our stats in percentages for a fairer comparison."
   ]
  },
  {
   "cell_type": "code",
   "execution_count": 317,
   "id": "c73ea4db",
   "metadata": {},
   "outputs": [],
   "source": [
    "# Filtering for tech companies\n",
    "filt = (data_2014[\"tech_company\"] == \"Yes\")\n",
    "data_tech = data_2014[filt]"
   ]
  },
  {
   "cell_type": "code",
   "execution_count": 318,
   "id": "cad89ead",
   "metadata": {},
   "outputs": [
    {
     "data": {
      "image/png": "[encoded data removed]",
      "text/plain": [
       "<Figure size 432x288 with 1 Axes>"
      ]
     },
     "metadata": {},
     "output_type": "display_data"
    }
   ],
   "source": [
    "#Creating data frame for mental health consequences\n",
    "mental_health_consequence=pd.DataFrame(data_tech['mental_health_consequence'].value_counts())\n",
    "mental_health_consequence[\"Total Participants\"]=total_participants\n",
    "mental_health_consequence.reset_index(inplace=True)\n",
    "mental_health_consequence=mental_health_consequence.rename(columns={\"index\":\"Response\",\"mental_health_consequence\":\"No of Response\"})\n",
    "mental_health_consequence[\"%\"]=round((mental_health_consequence[\"No of Response\"]/mental_health_consequence[\"Total Participants\"])*100,0)\n",
    "\n",
    "#Creating bar chart to display the results\n",
    "plt.bar(mental_health_consequence[\"Response\"],mental_health_consequence[\"%\"], color=\"mediumaquamarine\", alpha=1.0, align=\"center\")\n",
    "#plt.xticks(rotation=\"vertical\")\n",
    "plt.title(\"Do tech companies have consequences for mental health?\")\n",
    "plt.xlabel(\"Response\",fontweight = \"bold\")\n",
    "plt.ylabel(\"%\",fontweight = \"bold\")\n",
    "\n",
    "# Formatting to show counts and percentages on the bars\n",
    "total = float(len(mental_health_consequence))\n",
    "for p in ax1.patches:\n",
    "    height = p.get_height()\n",
    "    ax1.text(p.get_x()+p.get_width()/2.,\n",
    "            height + 1,\n",
    "            '{:1.0f}'.format(height) + ' (' + '{:1.0f}'.format(100*(height/total)) + '%' + ')',\n",
    "            ha=\"center\", size=11, color = 'black')\n"
   ]
  },
  {
   "cell_type": "code",
   "execution_count": 319,
   "id": "ef8ce852",
   "metadata": {},
   "outputs": [
    {
     "data": {
      "image/png": "[encoded data removed]",
      "text/plain": [
       "<Figure size 432x288 with 1 Axes>"
      ]
     },
     "metadata": {},
     "output_type": "display_data"
    }
   ],
   "source": [
    "# Create a Pie chart for comparisons\n",
    "mental_health_consequence=pd.DataFrame(data_tech['mental_health_consequence'].value_counts())\n",
    "mental_health_consequence[\"Total Participants\"]=total_participants\n",
    "mental_health_consequence.reset_index(inplace=True)\n",
    "mental_health_consequence=mental_health_consequence.rename(columns={\"index\":\"Response\",\"mental_health_consequence\":\"No of Response\"})\n",
    "mental_health_consequence[\"%\"]=round((mental_health_consequence[\"No of Response\"]/mental_health_consequence[\"Total Participants\"])*100,0)\n",
    "\n",
    "plt.pie(mental_health_consequence[\"%\"])\n",
    "labels = \"Yes\", \"No\", \"Dont't Know\"\n",
    "\n",
    "mylabels = [\"Yes\", \"No\", \"Maybe\"]\n",
    "mycolors = [\"darkseagreen\", \"darksalmon\", \"bisque\"]\n",
    "myexplode = [0.2, 0, 0]\n",
    "\n",
    "plt.pie(mental_health_consequence [\"%\"], labels = mylabels, explode = myexplode, colors = mycolors, autopct=\"%1.0f%%\")\n",
    "plt.show()"
   ]
  },
  {
   "cell_type": "code",
   "execution_count": 320,
   "id": "7709738e",
   "metadata": {},
   "outputs": [],
   "source": [
    "# Filtering for non-tech companies\n",
    "filt = (data_2014[\"tech_company\"] == \"\" \"No\")\n",
    "data_nontech = data_2014[filt]"
   ]
  },
  {
   "cell_type": "code",
   "execution_count": 321,
   "id": "dc4bb8c7",
   "metadata": {},
   "outputs": [
    {
     "data": {
      "image/png": "[encoded data removed]",
      "text/plain": [
       "<Figure size 432x288 with 1 Axes>"
      ]
     },
     "metadata": {},
     "output_type": "display_data"
    }
   ],
   "source": [
    "#Creating data frame for consequence\n",
    "mental_health_consequence=pd.DataFrame(data_nontech['mental_health_consequence'].value_counts())\n",
    "mental_health_consequence[\"Total Participants\"]=total_participants\n",
    "mental_health_consequence.reset_index(inplace=True)\n",
    "mental_health_consequence=mental_health_consequence.rename(columns={\"index\":\"Response\",\"mental_health_consequence\":\"No of Response\"})\n",
    "mental_health_consequence[\"%\"]=round((mental_health_consequence[\"No of Response\"]/mental_health_consequence[\"Total Participants\"])*100,0)\n",
    "\n",
    "#Creating bar chart to display the results\n",
    "plt.bar(mental_health_consequence[\"Response\"],mental_health_consequence[\"%\"], color=\"tan\", alpha=1.0, align=\"center\")\n",
    "#plt.xticks(rotation=\"vertical\")\n",
    "plt.title(\"Do tech companies have consequences for mental health?\")\n",
    "plt.xlabel(\"Response\",fontweight = \"bold\")\n",
    "plt.ylabel(\"%\",fontweight = \"bold\")\n",
    "\n",
    "# Formatting to show counts and percentages on the bars\n",
    "total = float(len(mental_health_consequence))\n",
    "for p in ax1.patches:\n",
    "    height = p.get_height()\n",
    "    ax1.text(p.get_x()+p.get_width()/2.,\n",
    "            height + 1,\n",
    "            '{:1.0f}'.format(height) + ' (' + '{:1.0f}'.format(100*(height/total)) + '%' + ')',\n",
    "            ha=\"center\", size=11, color = 'black')\n"
   ]
  },
  {
   "cell_type": "code",
   "execution_count": 322,
   "id": "34f3b7a2",
   "metadata": {},
   "outputs": [
    {
     "data": {
      "image/png": "[encoded data removed]",
      "text/plain": [
       "<Figure size 432x288 with 1 Axes>"
      ]
     },
     "metadata": {},
     "output_type": "display_data"
    }
   ],
   "source": [
    "# Create a Pie chart for comparisons\n",
    "#Creating data frame for consequence\n",
    "mental_health_consequence=pd.DataFrame(data_nontech['mental_health_consequence'].value_counts())\n",
    "mental_health_consequence[\"Total Participants\"]=total_participants\n",
    "mental_health_consequence.reset_index(inplace=True)\n",
    "mental_health_consequence=mental_health_consequence.rename(columns={\"index\":\"Response\",\"mental_health_consequence\":\"No of Response\"})\n",
    "mental_health_consequence[\"%\"]=round((mental_health_consequence[\"No of Response\"]/mental_health_consequence[\"Total Participants\"])*100,0)\n",
    "\n",
    "plt.pie(mental_health_consequence[\"%\"])\n",
    "labels = \"Yes\", \"No\", \"Dont't Know\"\n",
    "plt.title('Overall Tech Industry Support to Mental Health Issues', size = 16)\n",
    "\n",
    "mylabels = [\"Yes\", \"No\", \"Maybe\"]\n",
    "mycolors = [\"darkseagreen\", \"darksalmon\", \"bisque\"]\n",
    "myexplode = [0.2, 0, 0]\n",
    "\n",
    "plt.pie(mental_health_consequence [\"%\"], labels = mylabels, explode = myexplode, colors = mycolors, autopct=\"%1.0f%%\")\n",
    "plt.show()"
   ]
  },
  {
   "cell_type": "code",
   "execution_count": 323,
   "id": "3badb7a7",
   "metadata": {},
   "outputs": [],
   "source": [
    "# Compare how tech companies proportion consequences for mental health vs physical health"
   ]
  },
  {
   "cell_type": "code",
   "execution_count": 324,
   "id": "734e6d66",
   "metadata": {},
   "outputs": [
    {
     "data": {
      "text/html": [
       "<div>\n",
       "<style scoped>\n",
       "    .dataframe tbody tr th:only-of-type {\n",
       "        vertical-align: middle;\n",
       "    }\n",
       "\n",
       "    .dataframe tbody tr th {\n",
       "        vertical-align: top;\n",
       "    }\n",
       "\n",
       "    .dataframe thead th {\n",
       "        text-align: right;\n",
       "    }\n",
       "</style>\n",
       "<table border=\"1\" class=\"dataframe\">\n",
       "  <thead>\n",
       "    <tr style=\"text-align: right;\">\n",
       "      <th></th>\n",
       "      <th>mental_vs_physical</th>\n",
       "    </tr>\n",
       "  </thead>\n",
       "  <tbody>\n",
       "    <tr>\n",
       "      <th>Don't know</th>\n",
       "      <td>478</td>\n",
       "    </tr>\n",
       "    <tr>\n",
       "      <th>Yes</th>\n",
       "      <td>299</td>\n",
       "    </tr>\n",
       "    <tr>\n",
       "      <th>No</th>\n",
       "      <td>254</td>\n",
       "    </tr>\n",
       "  </tbody>\n",
       "</table>\n",
       "</div>"
      ],
      "text/plain": [
       "            mental_vs_physical\n",
       "Don't know                 478\n",
       "Yes                        299\n",
       "No                         254"
      ]
     },
     "execution_count": 324,
     "metadata": {},
     "output_type": "execute_result"
    }
   ],
   "source": [
    "#Creating a data frame for mental versus physical health in the tech industry. Is it treated the same?. \n",
    "mental_vs_physical=pd.DataFrame(data_tech[\"mental_vs_physical\"].value_counts())\n",
    "mental_vs_physical"
   ]
  },
  {
   "cell_type": "code",
   "execution_count": 333,
   "id": "ac8440af",
   "metadata": {},
   "outputs": [
    {
     "data": {
      "image/png": "[encoded data removed]",
      "text/plain": [
       "<Figure size 720x360 with 1 Axes>"
      ]
     },
     "metadata": {},
     "output_type": "display_data"
    }
   ],
   "source": [
    "# Filtering and renaming data\n",
    "mental_vs_physical = pd.DataFrame(data_tech[\"mental_vs_physical\"])\n",
    "\n",
    "# Creating a count plot \n",
    "plt.figure(figsize=(10,5))\n",
    "sns.set_style(\"ticks\")\n",
    "ax1 = sns.countplot(x=\"mental_vs_physical\", data=mental_vs_physical, color = \"mediumaquamarine\", saturation = 0.7)\n",
    "\n",
    "# Formatting chart axes, title, size\n",
    "plt.title('In the tech industry is mental and physical treated differently?', size = 16)\n",
    "plt.xlabel(\"Responses\", size = 12)\n",
    "plt.ylabel('Number of Participants', size = 12)\n",
    "\n",
    "# Formatting to show counts and percentages on the bars\n",
    "total = float(len(mental_vs_physical))\n",
    "for p in ax1.patches:\n",
    "    height = p.get_height()\n",
    "    ax1.text(p.get_x()+p.get_width()/2.,\n",
    "            height + 1,\n",
    "            '{:1.0f}'.format(height) + ' (' + '{:1.0f}'.format(100*(height/total)) + '%' + ')',\n",
    "            ha=\"center\", size=11, color = 'black') \n",
    "\n",
    "plt.show()"
   ]
  },
  {
   "cell_type": "code",
   "execution_count": 326,
   "id": "2351489f",
   "metadata": {},
   "outputs": [
    {
     "data": {
      "text/html": [
       "<div>\n",
       "<style scoped>\n",
       "    .dataframe tbody tr th:only-of-type {\n",
       "        vertical-align: middle;\n",
       "    }\n",
       "\n",
       "    .dataframe tbody tr th {\n",
       "        vertical-align: top;\n",
       "    }\n",
       "\n",
       "    .dataframe thead th {\n",
       "        text-align: right;\n",
       "    }\n",
       "</style>\n",
       "<table border=\"1\" class=\"dataframe\">\n",
       "  <thead>\n",
       "    <tr style=\"text-align: right;\">\n",
       "      <th></th>\n",
       "      <th>obs_consequence</th>\n",
       "    </tr>\n",
       "  </thead>\n",
       "  <tbody>\n",
       "    <tr>\n",
       "      <th>No</th>\n",
       "      <td>891</td>\n",
       "    </tr>\n",
       "    <tr>\n",
       "      <th>Yes</th>\n",
       "      <td>140</td>\n",
       "    </tr>\n",
       "  </tbody>\n",
       "</table>\n",
       "</div>"
      ],
      "text/plain": [
       "     obs_consequence\n",
       "No               891\n",
       "Yes              140"
      ]
     },
     "execution_count": 326,
     "metadata": {},
     "output_type": "execute_result"
    }
   ],
   "source": [
    "#Creating a data frame for observed negative consequences relating mental health conditions in the tech industry. \n",
    "obs_consequence=pd.DataFrame(data_tech[\"obs_consequence\"].value_counts())\n",
    "obs_consequence"
   ]
  },
  {
   "cell_type": "code",
   "execution_count": 334,
   "id": "f3306609",
   "metadata": {},
   "outputs": [
    {
     "data": {
      "image/png": "[encoded data removed]",
      "text/plain": [
       "<Figure size 720x360 with 1 Axes>"
      ]
     },
     "metadata": {},
     "output_type": "display_data"
    }
   ],
   "source": [
    "# Filtering and renaming data\n",
    "obs_consequence = pd.DataFrame(data_tech[\"obs_consequence\"])\n",
    "\n",
    "# Creating a count plot \n",
    "plt.figure(figsize=(10,5))\n",
    "sns.set_style(\"ticks\")\n",
    "ax1 = sns.countplot(x=\"obs_consequence\", data=obs_consequence, color = \"mediumaquamarine\", saturation = 0.7)\n",
    "\n",
    "# Formatting chart axes, title, size\n",
    "plt.title(\"Proportion of consequences witnessed\", size = 16)\n",
    "plt.xlabel(\"Responses\", size = 12)\n",
    "plt.ylabel(\"Number of Participants\", size = 12)\n",
    "\n",
    "# Formatting to show counts and percentages on the bars\n",
    "total = float(len(mental_vs_physical))\n",
    "for p in ax1.patches:\n",
    "    height = p.get_height()\n",
    "    ax1.text(p.get_x()+p.get_width()/2.,\n",
    "            height + 1,\n",
    "            '{:1.0f}'.format(height) + ' (' + '{:1.0f}'.format(100*(height/total)) + '%' + ')',\n",
    "            ha=\"center\", size=11, color = 'black') \n",
    "\n",
    "plt.show()"
   ]
  },
  {
   "cell_type": "code",
   "execution_count": 328,
   "id": "9a39eb46",
   "metadata": {},
   "outputs": [],
   "source": [
    "#### Do employees feel feel that the tech industry supports mental health and wellbeing?\n",
    "#Based on the data"
   ]
  },
  {
   "cell_type": "code",
   "execution_count": null,
   "id": "05fb760b",
   "metadata": {},
   "outputs": [],
   "source": []
  },
  {
   "cell_type": "code",
   "execution_count": null,
   "id": "5b173690",
   "metadata": {},
   "outputs": [],
   "source": []
  }
 ],
 "metadata": {
  "kernelspec": {
   "display_name": "Python 3 (ipykernel)",
   "language": "python",
   "name": "python3"
  },
  "language_info": {
   "codemirror_mode": {
    "name": "ipython",
    "version": 3
   },
   "file_extension": ".py",
   "mimetype": "text/x-python",
   "name": "python",
   "nbconvert_exporter": "python",
   "pygments_lexer": "ipython3",
   "version": "3.9.12"
  }
 },
 "nbformat": 4,
 "nbformat_minor": 5
}
