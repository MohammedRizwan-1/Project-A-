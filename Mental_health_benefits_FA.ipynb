{
 "cells": [
  {
   "cell_type": "code",
   "execution_count": 2,
   "id": "d9d596a2",
   "metadata": {},
   "outputs": [],
   "source": [
    "import numpy as np\n",
    "import pandas as pd\n",
    "import matplotlib.pyplot as plt"
   ]
  },
  {
   "cell_type": "code",
   "execution_count": 3,
   "id": "f3bc1f3d",
   "metadata": {},
   "outputs": [
    {
     "name": "stdout",
     "output_type": "stream",
     "text": [
      "<class 'pandas.core.frame.DataFrame'>\n",
      "RangeIndex: 1259 entries, 0 to 1258\n",
      "Data columns (total 27 columns):\n",
      " #   Column                     Non-Null Count  Dtype \n",
      "---  ------                     --------------  ----- \n",
      " 0   Timestamp                  1259 non-null   object\n",
      " 1   Age                        1259 non-null   int64 \n",
      " 2   Gender                     1259 non-null   object\n",
      " 3   Country                    1259 non-null   object\n",
      " 4   state                      744 non-null    object\n",
      " 5   self_employed              1241 non-null   object\n",
      " 6   family_history             1259 non-null   object\n",
      " 7   treatment                  1259 non-null   object\n",
      " 8   work_interfere             995 non-null    object\n",
      " 9   no_employees               1259 non-null   object\n",
      " 10  remote_work                1259 non-null   object\n",
      " 11  tech_company               1259 non-null   object\n",
      " 12  benefits                   1259 non-null   object\n",
      " 13  care_options               1259 non-null   object\n",
      " 14  wellness_program           1259 non-null   object\n",
      " 15  seek_help                  1259 non-null   object\n",
      " 16  anonymity                  1259 non-null   object\n",
      " 17  leave                      1259 non-null   object\n",
      " 18  mental_health_consequence  1259 non-null   object\n",
      " 19  phys_health_consequence    1259 non-null   object\n",
      " 20  coworkers                  1259 non-null   object\n",
      " 21  supervisor                 1259 non-null   object\n",
      " 22  mental_health_interview    1259 non-null   object\n",
      " 23  phys_health_interview      1259 non-null   object\n",
      " 24  mental_vs_physical         1259 non-null   object\n",
      " 25  obs_consequence            1259 non-null   object\n",
      " 26  comments                   164 non-null    object\n",
      "dtypes: int64(1), object(26)\n",
      "memory usage: 265.7+ KB\n"
     ]
    }
   ],
   "source": [
    "#Read csv\n",
    "data_2014 = pd.read_csv(\"1-Data/OSMI 2014 Mental Health in Tech Survey Results - OSMI Mental Health in Tech Survey 2019.csv\")\n",
    "data_2014.head()\n",
    "data_2014.info()"
   ]
  },
  {
   "cell_type": "code",
   "execution_count": 4,
   "id": "88c214cf",
   "metadata": {},
   "outputs": [
    {
     "name": "stdout",
     "output_type": "stream",
     "text": [
      "The total number of participants in the 2019 survey was 1259\n"
     ]
    }
   ],
   "source": [
    "#Obtain total number of participants in survey\n",
    "total_participants=data_2014.shape[0]\n",
    "print(\"The total number of participants in the 2019 survey was \"+str(total_participants))"
   ]
  },
  {
   "cell_type": "code",
   "execution_count": 5,
   "id": "7791569c",
   "metadata": {},
   "outputs": [
    {
     "data": {
      "text/plain": [
       "0"
      ]
     },
     "metadata": {},
     "output_type": "display_data"
    },
    {
     "data": {
      "text/plain": [
       "0"
      ]
     },
     "metadata": {},
     "output_type": "display_data"
    }
   ],
   "source": [
    "#Checking for any nill values\n",
    "display(data_2014[\"benefits\"].isnull().sum())\n",
    "display(data_2014[\"care_options\"].isnull().sum())"
   ]
  },
  {
   "cell_type": "code",
   "execution_count": 6,
   "id": "70d6f92d",
   "metadata": {},
   "outputs": [
    {
     "data": {
      "text/html": [
       "<div>\n",
       "<style scoped>\n",
       "    .dataframe tbody tr th:only-of-type {\n",
       "        vertical-align: middle;\n",
       "    }\n",
       "\n",
       "    .dataframe tbody tr th {\n",
       "        vertical-align: top;\n",
       "    }\n",
       "\n",
       "    .dataframe thead th {\n",
       "        text-align: right;\n",
       "    }\n",
       "</style>\n",
       "<table border=\"1\" class=\"dataframe\">\n",
       "  <thead>\n",
       "    <tr style=\"text-align: right;\">\n",
       "      <th></th>\n",
       "      <th>Response</th>\n",
       "      <th>No of Response</th>\n",
       "      <th>Total Participants</th>\n",
       "      <th>%</th>\n",
       "    </tr>\n",
       "  </thead>\n",
       "  <tbody>\n",
       "    <tr>\n",
       "      <th>0</th>\n",
       "      <td>Yes</td>\n",
       "      <td>477</td>\n",
       "      <td>1259</td>\n",
       "      <td>38.0</td>\n",
       "    </tr>\n",
       "    <tr>\n",
       "      <th>1</th>\n",
       "      <td>Don't know</td>\n",
       "      <td>408</td>\n",
       "      <td>1259</td>\n",
       "      <td>32.0</td>\n",
       "    </tr>\n",
       "    <tr>\n",
       "      <th>2</th>\n",
       "      <td>No</td>\n",
       "      <td>374</td>\n",
       "      <td>1259</td>\n",
       "      <td>30.0</td>\n",
       "    </tr>\n",
       "  </tbody>\n",
       "</table>\n",
       "</div>"
      ],
      "text/plain": [
       "     Response  No of Response  Total Participants     %\n",
       "0         Yes             477                1259  38.0\n",
       "1  Don't know             408                1259  32.0\n",
       "2          No             374                1259  30.0"
      ]
     },
     "metadata": {},
     "output_type": "display_data"
    },
    {
     "data": {
      "text/plain": [
       "Text(0, 0.5, '%')"
      ]
     },
     "execution_count": 6,
     "metadata": {},
     "output_type": "execute_result"
    },
    {
     "data": {
      "image/png": "[encoded data removed]",
      "text/plain": [
       "<Figure size 432x288 with 1 Axes>"
      ]
     },
     "metadata": {
      "needs_background": "light"
     },
     "output_type": "display_data"
    }
   ],
   "source": [
    "#Creating data frame for benefits offered\n",
    "benefits_awareness=pd.DataFrame(data_2014['benefits'].value_counts())\n",
    "benefits_awareness[\"Total Participants\"]=total_participants\n",
    "benefits_awareness.reset_index(inplace=True)\n",
    "benefits_awareness=benefits_awareness.rename(columns={\"index\":\"Response\",\"benefits\":\"No of Response\"})\n",
    "benefits_awareness[\"%\"]=round((benefits_awareness[\"No of Response\"]/benefits_awareness[\"Total Participants\"])*100,0)\n",
    "display(benefits_awareness)\n",
    "\n",
    "#Creating bar chart to display the results\n",
    "plt.bar(benefits_awareness[\"Response\"],benefits_awareness[\"%\"], color='darkseagreen', alpha=0.5, align=\"center\")\n",
    "#plt.xticks(rotation=\"vertical\")\n",
    "plt.title(\"Do Employers Provide Mental Health Benefits?\")\n",
    "plt.xlabel(\"Response\",fontweight = \"bold\")\n",
    "plt.ylabel(\"%\",fontweight = \"bold\")"
   ]
  },
  {
   "cell_type": "code",
   "execution_count": 7,
   "id": "ea1bb0ae",
   "metadata": {},
   "outputs": [
    {
     "data": {
      "text/html": [
       "<div>\n",
       "<style scoped>\n",
       "    .dataframe tbody tr th:only-of-type {\n",
       "        vertical-align: middle;\n",
       "    }\n",
       "\n",
       "    .dataframe tbody tr th {\n",
       "        vertical-align: top;\n",
       "    }\n",
       "\n",
       "    .dataframe thead th {\n",
       "        text-align: right;\n",
       "    }\n",
       "</style>\n",
       "<table border=\"1\" class=\"dataframe\">\n",
       "  <thead>\n",
       "    <tr style=\"text-align: right;\">\n",
       "      <th></th>\n",
       "      <th>Response</th>\n",
       "      <th>Participants Count</th>\n",
       "      <th>Total Participants</th>\n",
       "      <th>%</th>\n",
       "    </tr>\n",
       "  </thead>\n",
       "  <tbody>\n",
       "    <tr>\n",
       "      <th>0</th>\n",
       "      <td>No</td>\n",
       "      <td>501</td>\n",
       "      <td>1259</td>\n",
       "      <td>40.0</td>\n",
       "    </tr>\n",
       "    <tr>\n",
       "      <th>1</th>\n",
       "      <td>Yes</td>\n",
       "      <td>444</td>\n",
       "      <td>1259</td>\n",
       "      <td>35.0</td>\n",
       "    </tr>\n",
       "    <tr>\n",
       "      <th>2</th>\n",
       "      <td>Not sure</td>\n",
       "      <td>314</td>\n",
       "      <td>1259</td>\n",
       "      <td>25.0</td>\n",
       "    </tr>\n",
       "  </tbody>\n",
       "</table>\n",
       "</div>"
      ],
      "text/plain": [
       "   Response  Participants Count  Total Participants     %\n",
       "0        No                 501                1259  40.0\n",
       "1       Yes                 444                1259  35.0\n",
       "2  Not sure                 314                1259  25.0"
      ]
     },
     "metadata": {},
     "output_type": "display_data"
    },
    {
     "data": {
      "text/plain": [
       "Text(0, 0.5, '%')"
      ]
     },
     "execution_count": 7,
     "metadata": {},
     "output_type": "execute_result"
    },
    {
     "data": {
      "image/png": "[encoded data removed]",
      "text/plain": [
       "<Figure size 432x288 with 1 Axes>"
      ]
     },
     "metadata": {
      "needs_background": "light"
     },
     "output_type": "display_data"
    }
   ],
   "source": [
    "care_options=pd.DataFrame(data_2014[\"care_options\"].value_counts())\n",
    "care_options[\"Total Participants\"]=total_participants\n",
    "care_options.reset_index(inplace=True)\n",
    "care_options=care_options.rename(columns={\"index\":\"Response\",\"care_options\":\"Participants Count\"})\n",
    "care_options[\"%\"]=round((care_options[\"Participants Count\"]/care_options[\"Total Participants\"])*100,0)\n",
    "display(care_options)\n",
    "\n",
    "#Creating bar chart to display the results\n",
    "plt.bar(care_options[\"Response\"],care_options[\"%\"], color='g', alpha=0.5, align=\"center\")\n",
    "#plt.xticks(rotation=\"vertical\")\n",
    "plt.title(\"Do you know the options for mental health care your employer provides?\")\n",
    "plt.xlabel(\"Response\",fontweight = \"bold\")\n",
    "plt.ylabel(\"%\",fontweight = \"bold\")"
   ]
  },
  {
   "cell_type": "markdown",
   "id": "6c8e3633",
   "metadata": {},
   "source": [
    "## Do companies provide mental health benefits?"
   ]
  },
  {
   "cell_type": "code",
   "execution_count": 8,
   "id": "7058a2bf",
   "metadata": {},
   "outputs": [
    {
     "name": "stdout",
     "output_type": "stream",
     "text": [
      "% of non-tech companies providing mental health benefits\n"
     ]
    },
    {
     "data": {
      "text/html": [
       "<div>\n",
       "<style scoped>\n",
       "    .dataframe tbody tr th:only-of-type {\n",
       "        vertical-align: middle;\n",
       "    }\n",
       "\n",
       "    .dataframe tbody tr th {\n",
       "        vertical-align: top;\n",
       "    }\n",
       "\n",
       "    .dataframe thead th {\n",
       "        text-align: right;\n",
       "    }\n",
       "</style>\n",
       "<table border=\"1\" class=\"dataframe\">\n",
       "  <thead>\n",
       "    <tr style=\"text-align: right;\">\n",
       "      <th></th>\n",
       "      <th>Response</th>\n",
       "      <th>Participants Count</th>\n",
       "      <th>Total Participants</th>\n",
       "      <th>%</th>\n",
       "    </tr>\n",
       "  </thead>\n",
       "  <tbody>\n",
       "    <tr>\n",
       "      <th>0</th>\n",
       "      <td>Don't know</td>\n",
       "      <td>73</td>\n",
       "      <td>228</td>\n",
       "      <td>32.0</td>\n",
       "    </tr>\n",
       "    <tr>\n",
       "      <th>1</th>\n",
       "      <td>No</td>\n",
       "      <td>51</td>\n",
       "      <td>228</td>\n",
       "      <td>22.0</td>\n",
       "    </tr>\n",
       "    <tr>\n",
       "      <th>2</th>\n",
       "      <td>Yes</td>\n",
       "      <td>104</td>\n",
       "      <td>228</td>\n",
       "      <td>46.0</td>\n",
       "    </tr>\n",
       "  </tbody>\n",
       "</table>\n",
       "</div>"
      ],
      "text/plain": [
       "     Response  Participants Count  Total Participants     %\n",
       "0  Don't know                  73                 228  32.0\n",
       "1          No                  51                 228  22.0\n",
       "2         Yes                 104                 228  46.0"
      ]
     },
     "metadata": {},
     "output_type": "display_data"
    },
    {
     "name": "stdout",
     "output_type": "stream",
     "text": [
      "% of tech companies providing mental health benefits\n"
     ]
    },
    {
     "data": {
      "text/html": [
       "<div>\n",
       "<style scoped>\n",
       "    .dataframe tbody tr th:only-of-type {\n",
       "        vertical-align: middle;\n",
       "    }\n",
       "\n",
       "    .dataframe tbody tr th {\n",
       "        vertical-align: top;\n",
       "    }\n",
       "\n",
       "    .dataframe thead th {\n",
       "        text-align: right;\n",
       "    }\n",
       "</style>\n",
       "<table border=\"1\" class=\"dataframe\">\n",
       "  <thead>\n",
       "    <tr style=\"text-align: right;\">\n",
       "      <th></th>\n",
       "      <th>Response</th>\n",
       "      <th>Participants Count</th>\n",
       "      <th>Total Participants</th>\n",
       "      <th>%</th>\n",
       "    </tr>\n",
       "  </thead>\n",
       "  <tbody>\n",
       "    <tr>\n",
       "      <th>0</th>\n",
       "      <td>Don't know</td>\n",
       "      <td>335</td>\n",
       "      <td>1031</td>\n",
       "      <td>32.0</td>\n",
       "    </tr>\n",
       "    <tr>\n",
       "      <th>1</th>\n",
       "      <td>No</td>\n",
       "      <td>323</td>\n",
       "      <td>1031</td>\n",
       "      <td>31.0</td>\n",
       "    </tr>\n",
       "    <tr>\n",
       "      <th>2</th>\n",
       "      <td>Yes</td>\n",
       "      <td>373</td>\n",
       "      <td>1031</td>\n",
       "      <td>36.0</td>\n",
       "    </tr>\n",
       "  </tbody>\n",
       "</table>\n",
       "</div>"
      ],
      "text/plain": [
       "     Response  Participants Count  Total Participants     %\n",
       "0  Don't know                 335                1031  32.0\n",
       "1          No                 323                1031  31.0\n",
       "2         Yes                 373                1031  36.0"
      ]
     },
     "metadata": {},
     "output_type": "display_data"
    },
    {
     "data": {
      "image/png": "[encoded data removed]",
      "text/plain": [
       "<Figure size 720x360 with 1 Axes>"
      ]
     },
     "metadata": {
      "needs_background": "light"
     },
     "output_type": "display_data"
    }
   ],
   "source": [
    "#non_tech\n",
    "benefits=data_2014.groupby(\"tech_company\")\n",
    "non_tech=benefits.get_group(\"No\")\n",
    "non_tech=pd.DataFrame(non_tech.groupby(\"benefits\").size())\n",
    "non_tech.reset_index(inplace=True)\n",
    "non_tech=non_tech.rename(columns={\"benefits\":\"Response\",0:\"Participants Count\"})\n",
    "non_tech[\"Total Participants\"]=non_tech.iloc[:,1].sum()\n",
    "non_tech[\"%\"]=round((non_tech[\"Participants Count\"]/non_tech[\"Total Participants\"])*100,0)\n",
    "print(\"% of non-tech companies providing mental health benefits\")\n",
    "display(non_tech)\n",
    "\n",
    "#tech\n",
    "benefits=data_2014.groupby(\"tech_company\")\n",
    "tech=benefits.get_group(\"Yes\")\n",
    "tech=pd.DataFrame(tech.groupby(\"benefits\").size())\n",
    "tech.reset_index(inplace=True)\n",
    "tech=tech.rename(columns={\"benefits\":\"Response\",0:\"Participants Count\"})\n",
    "tech[\"Total Participants\"]=tech.iloc[:,1].sum()\n",
    "tech[\"%\"]=round((tech[\"Participants Count\"]/tech[\"Total Participants\"])*100,0)\n",
    "print(\"% of tech companies providing mental health benefits\")\n",
    "display(tech)\n",
    "\n",
    "\n",
    "#Generating barcharts\n",
    "\n",
    "# Numbers of pairs of bars\n",
    "N = 3\n",
    "\n",
    "# Data on X-axis\n",
    "X1 = non_tech[\"%\"]\n",
    "X2 = tech[\"%\"]\n",
    "\n",
    "# Position of bars on x-axis\n",
    "ind = np.arange(N)\n",
    "\n",
    "# Figure size\n",
    "plt.figure(figsize=(10,5))\n",
    "\n",
    "# Width of a bar \n",
    "width = 0.3       \n",
    "\n",
    "# Plotting\n",
    "plt.bar(ind, X1 , width, label='non_tech', color=\"steelblue\", alpha=0.5)\n",
    "plt.bar(ind + width, X2, width, label='tech', color=\"salmon\", alpha=0.5)\n",
    "\n",
    "plt.xlabel(\"Response\", fontweight = \"bold\")\n",
    "plt.ylabel(\"% of Participants\", fontweight = \"bold\")\n",
    "plt.title(\"Availability of Mental Health Benefits\", fontweight = \"bold\")\n",
    "\n",
    "# xticks()\n",
    "# First argument - A list of positions at which ticks should be placed\n",
    "# Second argument -  A list of labels to place at the given locations\n",
    "plt.xticks(ind + width / 2, (\"Don't know\", 'No', 'Yes'))\n",
    "\n",
    "# Finding the best position for legends and putting it\n",
    "plt.legend(loc='best')\n",
    "plt.show()\n"
   ]
  },
  {
   "cell_type": "markdown",
   "id": "1bed30a4",
   "metadata": {},
   "source": [
    "### Insight\n",
    "\n",
    "The bar chart above looks at the responses of employees in tech and non-tech companies regarding mental health benefits provided by their employers. 46% of employees of non-tech companies said that their employers provide mental health benefits compared to 36% for tech companies. However in both instances 32% of employees were not aware if their companies did or did not provide mental health benefits. "
   ]
  },
  {
   "cell_type": "code",
   "execution_count": 17,
   "id": "f88b0be2",
   "metadata": {},
   "outputs": [
    {
     "name": "stdout",
     "output_type": "stream",
     "text": [
      "Percentage of Employees aware of how to seek help in non tech companies\n"
     ]
    },
    {
     "data": {
      "text/html": [
       "<div>\n",
       "<style scoped>\n",
       "    .dataframe tbody tr th:only-of-type {\n",
       "        vertical-align: middle;\n",
       "    }\n",
       "\n",
       "    .dataframe tbody tr th {\n",
       "        vertical-align: top;\n",
       "    }\n",
       "\n",
       "    .dataframe thead th {\n",
       "        text-align: right;\n",
       "    }\n",
       "</style>\n",
       "<table border=\"1\" class=\"dataframe\">\n",
       "  <thead>\n",
       "    <tr style=\"text-align: right;\">\n",
       "      <th></th>\n",
       "      <th>Response</th>\n",
       "      <th>Participants Count</th>\n",
       "      <th>Total Participants</th>\n",
       "      <th>%</th>\n",
       "    </tr>\n",
       "  </thead>\n",
       "  <tbody>\n",
       "    <tr>\n",
       "      <th>0</th>\n",
       "      <td>Don't know</td>\n",
       "      <td>67</td>\n",
       "      <td>228</td>\n",
       "      <td>29.0</td>\n",
       "    </tr>\n",
       "    <tr>\n",
       "      <th>1</th>\n",
       "      <td>No</td>\n",
       "      <td>92</td>\n",
       "      <td>228</td>\n",
       "      <td>40.0</td>\n",
       "    </tr>\n",
       "    <tr>\n",
       "      <th>2</th>\n",
       "      <td>Yes</td>\n",
       "      <td>69</td>\n",
       "      <td>228</td>\n",
       "      <td>30.0</td>\n",
       "    </tr>\n",
       "  </tbody>\n",
       "</table>\n",
       "</div>"
      ],
      "text/plain": [
       "     Response  Participants Count  Total Participants     %\n",
       "0  Don't know                  67                 228  29.0\n",
       "1          No                  92                 228  40.0\n",
       "2         Yes                  69                 228  30.0"
      ]
     },
     "metadata": {},
     "output_type": "display_data"
    },
    {
     "name": "stdout",
     "output_type": "stream",
     "text": [
      "Percentage of Employees aware of how to seek help in tech companies\n"
     ]
    },
    {
     "data": {
      "text/html": [
       "<div>\n",
       "<style scoped>\n",
       "    .dataframe tbody tr th:only-of-type {\n",
       "        vertical-align: middle;\n",
       "    }\n",
       "\n",
       "    .dataframe tbody tr th {\n",
       "        vertical-align: top;\n",
       "    }\n",
       "\n",
       "    .dataframe thead th {\n",
       "        text-align: right;\n",
       "    }\n",
       "</style>\n",
       "<table border=\"1\" class=\"dataframe\">\n",
       "  <thead>\n",
       "    <tr style=\"text-align: right;\">\n",
       "      <th></th>\n",
       "      <th>Response</th>\n",
       "      <th>Participants Count</th>\n",
       "      <th>Total Participants</th>\n",
       "      <th>%</th>\n",
       "    </tr>\n",
       "  </thead>\n",
       "  <tbody>\n",
       "    <tr>\n",
       "      <th>0</th>\n",
       "      <td>Don't know</td>\n",
       "      <td>296</td>\n",
       "      <td>1031</td>\n",
       "      <td>29.0</td>\n",
       "    </tr>\n",
       "    <tr>\n",
       "      <th>1</th>\n",
       "      <td>No</td>\n",
       "      <td>554</td>\n",
       "      <td>1031</td>\n",
       "      <td>54.0</td>\n",
       "    </tr>\n",
       "    <tr>\n",
       "      <th>2</th>\n",
       "      <td>Yes</td>\n",
       "      <td>181</td>\n",
       "      <td>1031</td>\n",
       "      <td>18.0</td>\n",
       "    </tr>\n",
       "  </tbody>\n",
       "</table>\n",
       "</div>"
      ],
      "text/plain": [
       "     Response  Participants Count  Total Participants     %\n",
       "0  Don't know                 296                1031  29.0\n",
       "1          No                 554                1031  54.0\n",
       "2         Yes                 181                1031  18.0"
      ]
     },
     "metadata": {},
     "output_type": "display_data"
    },
    {
     "data": {
      "image/png": "[encoded data removed]",
      "text/plain": [
       "<Figure size 720x360 with 1 Axes>"
      ]
     },
     "metadata": {
      "needs_background": "light"
     },
     "output_type": "display_data"
    },
    {
     "data": {
      "image/png": "[encoded data removed]",
      "text/plain": [
       "<Figure size 432x288 with 1 Axes>"
      ]
     },
     "metadata": {
      "needs_background": "light"
     },
     "output_type": "display_data"
    }
   ],
   "source": [
    "#seek help\n",
    "#non_tech\n",
    "seek_help=data_2014.groupby(\"tech_company\")\n",
    "non_tech1=seek_help.get_group(\"No\")\n",
    "non_tech1=pd.DataFrame(non_tech1.groupby(\"seek_help\").size())\n",
    "non_tech1.reset_index(inplace=True)\n",
    "non_tech1=non_tech1.rename(columns={\"seek_help\":\"Response\",0:\"Participants Count\"})\n",
    "non_tech1[\"Total Participants\"]=non_tech1.iloc[:,1].sum()\n",
    "non_tech1[\"%\"]=round((non_tech1[\"Participants Count\"]/non_tech1[\"Total Participants\"])*100,0)\n",
    "print(\"Percentage of Employees aware of how to seek help in non tech companies\")\n",
    "display(non_tech1)\n",
    "\n",
    "#tech\n",
    "seek_help=data_2014.groupby(\"tech_company\")\n",
    "tech1=seek_help.get_group(\"Yes\")\n",
    "tech1=pd.DataFrame(tech1.groupby(\"seek_help\").size())\n",
    "tech1.reset_index(inplace=True)\n",
    "tech1=tech1.rename(columns={\"seek_help\":\"Response\",0:\"Participants Count\"})\n",
    "tech1[\"Total Participants\"]=tech1.iloc[:,1].sum()\n",
    "tech1[\"%\"]=round((tech1[\"Participants Count\"]/tech1[\"Total Participants\"])*100,0)\n",
    "print(\"Percentage of Employees aware of how to seek help in tech companies\")\n",
    "display(tech1)\n",
    "\n",
    "# Numbers of pairs of bars you want\n",
    "N = 3\n",
    "\n",
    "# Data on X-axis\n",
    "X3 = non_tech1[\"%\"]\n",
    "X4 = tech1[\"%\"]\n",
    "\n",
    "# Position of bars on x-axis\n",
    "ind = np.arange(N)\n",
    "\n",
    "# Figure size\n",
    "plt.figure(figsize=(10,5))\n",
    "\n",
    "# Width of a bar \n",
    "width = 0.3       \n",
    "\n",
    "# Plotting\n",
    "plt.bar(ind, X3 , width, label='non_tech',color=\"steelblue\",alpha=0.5)\n",
    "plt.bar(ind + width, X4, width, label='tech',color=\"salmon\",alpha=0.5)\n",
    "\n",
    "plt.xlabel(\"Response\",fontweight = \"bold\")\n",
    "plt.ylabel(\"% of Participants\", fontweight = \"bold\")\n",
    "plt.title(\"Awareness of Available Resources and Ways to Seek Help for Mental Health Issues\",fontweight = \"bold\")\n",
    "\n",
    "# xticks()\n",
    "# First argument - A list of positions at which ticks should be placed\n",
    "# Second argument -  A list of labels to place at the given locations\n",
    "plt.xticks(ind + width / 2, (\"Don't know\", 'No', 'Yes'))\n",
    "\n",
    "# Finding the best position for legends and putting it\n",
    "plt.legend(loc='best')\n",
    "plt.show()\n",
    "\n",
    "# Plotting\n",
    "plt.bar(ind, X4, 0.5, label='tech',color=\"cadetblue\",alpha=0.5)\n",
    "plt.xlabel(\"Response\",fontweight = \"bold\")\n",
    "plt.ylabel(\"% of Participants\", fontweight = \"bold\")\n",
    "plt.title(\"Awareness of Available Resources and Ways to Seek Help for Mental Health Issues\",fontweight = \"bold\")\n",
    "\n",
    "plt.xticks(ind, (\"Don't know\", 'No', 'Yes'))\n",
    "\n",
    "plt.show()"
   ]
  },
  {
   "cell_type": "markdown",
   "id": "0fec7cfa",
   "metadata": {},
   "source": [
    "### Insight\n",
    "\n",
    "54% of employees of tech companies said that their employers did not provide resources to learn more about mental health issues or how to seek help. This suggests that awareness of the benefits, discussions about such issues and resources for additional help are quite limited in the tech workplaces and have room for improvement."
   ]
  }
 ],
 "metadata": {
  "kernelspec": {
   "display_name": "Python 3 (ipykernel)",
   "language": "python",
   "name": "python3"
  },
  "language_info": {
   "codemirror_mode": {
    "name": "ipython",
    "version": 3
   },
   "file_extension": ".py",
   "mimetype": "text/x-python",
   "name": "python",
   "nbconvert_exporter": "python",
   "pygments_lexer": "ipython3",
   "version": "3.9.12"
  }
 },
 "nbformat": 4,
 "nbformat_minor": 5
}
